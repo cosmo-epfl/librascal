{
 "cells": [
  {
   "cell_type": "markdown",
   "metadata": {},
   "source": [
    "# SOAP example"
   ]
  },
  {
   "cell_type": "markdown",
   "metadata": {},
   "source": [
    "To install rascal:\n",
    "+ mkdir ../build \n",
    "+ cd build\n",
    "+ cmake -DCMAKE_BUILD_TYPE=Release -DBUILD_TESTS=ON ..\n",
    "+ make -j 4\n",
    "+ make install"
   ]
  },
  {
   "cell_type": "markdown",
   "metadata": {},
   "source": [
    "TODO: Compare against an existing SOAP implementation in Python (e.g. quippy)"
   ]
  },
  {
   "cell_type": "code",
   "execution_count": 1,
   "metadata": {
    "scrolled": true
   },
   "outputs": [
    {
     "name": "stdout",
     "output_type": "stream",
     "text": [
      "env: OMP_NUM_THREADS=1\n"
     ]
    }
   ],
   "source": [
    "%env OMP_NUM_THREADS=1"
   ]
  },
  {
   "cell_type": "code",
   "execution_count": 2,
   "metadata": {},
   "outputs": [],
   "source": [
    "%matplotlib inline\n",
    "from matplotlib import pyplot as plt"
   ]
  },
  {
   "cell_type": "code",
   "execution_count": 3,
   "metadata": {},
   "outputs": [],
   "source": [
    "import rascal\n",
    "import rascal.lib as lrl\n",
    "import json"
   ]
  },
  {
   "cell_type": "code",
   "execution_count": 4,
   "metadata": {},
   "outputs": [],
   "source": [
    "import ase\n",
    "#from ase.io import read\n",
    "from ase.visualize import view\n",
    "import numpy as np\n",
    "import sys"
   ]
  },
  {
   "cell_type": "code",
   "execution_count": 5,
   "metadata": {},
   "outputs": [],
   "source": [
    "from rascal.representation.base import _representations, RepresentationFactory"
   ]
  },
  {
   "cell_type": "code",
   "execution_count": 6,
   "metadata": {},
   "outputs": [
    {
     "data": {
      "text/plain": [
       "{'coulomb': rascal.lib._rascal.RepresentationManager.SortedCoulomb_Strict_NeighbourList_Centers,\n",
       " 'sphericalexpansion': rascal.lib._rascal.RepresentationManager.SphericalExpansion_Strict_NeighbourList_Centers}"
      ]
     },
     "execution_count": 6,
     "metadata": {},
     "output_type": "execute_result"
    }
   ],
   "source": [
    "_representations"
   ]
  },
  {
   "cell_type": "code",
   "execution_count": 7,
   "metadata": {},
   "outputs": [],
   "source": [
    "test_hypers = {\"interaction_cutoff\": 6.0,\n",
    "               \"cutoff_smooth_width\": 1.0, \n",
    "               \"max_radial\": 10,\n",
    "               \"max_angular\": 8,\n",
    "               \"gaussian_sigma_type\": \"Constant\",\n",
    "               \"gaussian_sigma_constant\": 0.5}"
   ]
  },
  {
   "cell_type": "code",
   "execution_count": 8,
   "metadata": {},
   "outputs": [],
   "source": [
    "#methane = rascal.utils.get_strict_neighbourlist(read(\n",
    "#    '/local/scratch/mveit/data/phdproject/structures/methane-ccsdt-avtz-comp.xyz'),\n",
    "#                                                cutoff=test_hypers['interaction_cutoff'])\n",
    "methane = ase.io.read('/local/scratch/mveit/data/phdproject/structures/methane-ccsdt-avtz-comp.xyz')"
   ]
  },
  {
   "cell_type": "code",
   "execution_count": 9,
   "metadata": {},
   "outputs": [
    {
     "data": {
      "text/plain": [
       "'{\"interaction_cutoff\": 6.0, \"cutoff_smooth_width\": 1.0, \"max_radial\": 10, \"max_angular\": 8, \"gaussian_sigma_type\": \"Constant\", \"gaussian_sigma_constant\": 0.5}'"
      ]
     },
     "execution_count": 9,
     "metadata": {},
     "output_type": "execute_result"
    }
   ],
   "source": [
    "json.dumps(test_hypers)"
   ]
  },
  {
   "cell_type": "code",
   "execution_count": 10,
   "metadata": {},
   "outputs": [],
   "source": [
    "sph_expn = rascal.representation.SphericalExpansion(**test_hypers)"
   ]
  },
  {
   "cell_type": "code",
   "execution_count": 11,
   "metadata": {},
   "outputs": [
    {
     "data": {
      "text/plain": [
       "{'interaction_cutoff': 6.0,\n",
       " 'cutoff_smooth_width': 1.0,\n",
       " 'max_radial': 10,\n",
       " 'max_angular': 8,\n",
       " 'gaussian_sigma_type': 'Constant',\n",
       " 'gaussian_sigma_constant': 0.5,\n",
       " 'n_species': 1}"
      ]
     },
     "execution_count": 11,
     "metadata": {},
     "output_type": "execute_result"
    }
   ],
   "source": [
    "sph_expn.hypers"
   ]
  },
  {
   "cell_type": "code",
   "execution_count": 12,
   "metadata": {},
   "outputs": [],
   "source": [
    "expansions = sph_expn.transform([methane,])"
   ]
  },
  {
   "cell_type": "code",
   "execution_count": 16,
   "metadata": {},
   "outputs": [
    {
     "data": {
      "text/plain": [
       "['__class__',\n",
       " '__delattr__',\n",
       " '__dir__',\n",
       " '__doc__',\n",
       " '__eq__',\n",
       " '__format__',\n",
       " '__ge__',\n",
       " '__getattribute__',\n",
       " '__gt__',\n",
       " '__hash__',\n",
       " '__init__',\n",
       " '__init_subclass__',\n",
       " '__le__',\n",
       " '__lt__',\n",
       " '__module__',\n",
       " '__ne__',\n",
       " '__new__',\n",
       " '__reduce__',\n",
       " '__reduce_ex__',\n",
       " '__repr__',\n",
       " '__setattr__',\n",
       " '__sizeof__',\n",
       " '__str__',\n",
       " '__subclasshook__',\n",
       " 'append',\n",
       " 'get_feature_matrix',\n",
       " 'reserve',\n",
       " 'shape',\n",
       " 'size']"
      ]
     },
     "execution_count": 16,
     "metadata": {},
     "output_type": "execute_result"
    }
   ],
   "source": [
    "dir(expansions)"
   ]
  },
  {
   "cell_type": "code",
   "execution_count": 17,
   "metadata": {},
   "outputs": [
    {
     "data": {
      "text/plain": [
       "array([[ 1.45614444e-01,  8.34125492e-02,  8.34121180e-02,\n",
       "         8.34118823e-02,  8.34129731e-02],\n",
       "       [ 1.51520440e-01,  8.56712202e-02,  8.56707820e-02,\n",
       "         8.56705343e-02,  8.56716713e-02],\n",
       "       [ 1.15017638e-01,  6.47833515e-02,  6.47830269e-02,\n",
       "         6.47828393e-02,  6.47836962e-02],\n",
       "       ...,\n",
       "       [ 1.33473428e-09,  2.00386882e-08, -1.36507936e-02,\n",
       "        -9.58668851e-03,  2.32344582e-02],\n",
       "       [ 4.83086450e-10,  2.04702850e-08, -1.19357179e-02,\n",
       "        -8.38226947e-03,  2.03149496e-02],\n",
       "       [ 1.13720106e-10,  1.24756641e-08, -6.45847379e-03,\n",
       "        -4.53570756e-03,  1.09923510e-02]])"
      ]
     },
     "execution_count": 17,
     "metadata": {},
     "output_type": "execute_result"
    }
   ],
   "source": [
    "expansions.get_feature_matrix()"
   ]
  },
  {
   "cell_type": "code",
   "execution_count": 20,
   "metadata": {},
   "outputs": [
    {
     "data": {
      "text/plain": [
       "(5, 810)"
      ]
     },
     "execution_count": 20,
     "metadata": {},
     "output_type": "execute_result"
    }
   ],
   "source": [
    "expansions.shape"
   ]
  },
  {
   "cell_type": "markdown",
   "metadata": {},
   "source": [
    "Good, should be 5 centres (5 atoms) * 10 radial * 81 ${}=(l+1)^2$"
   ]
  },
  {
   "cell_type": "code",
   "execution_count": null,
   "metadata": {},
   "outputs": [],
   "source": [
    "# load a small subset of structures from QM9\n",
    "frames = read(p+'tests/reference_data/dft-smiles_500.xyz',':')\n",
    "cutoff = 3."
   ]
  },
  {
   "cell_type": "code",
   "execution_count": null,
   "metadata": {},
   "outputs": [],
   "source": [
    "# Compute the sorted coulomb matrices for the list of structures\n",
    "#%timeit -n 20 -r 5 features = rep.transform(frames)"
   ]
  },
  {
   "cell_type": "code",
   "execution_count": null,
   "metadata": {},
   "outputs": [],
   "source": [
    "# Compare with reference\n",
    "#%timeit -n 20 -r 5 ref = get_coulomb_refs(frames,rep.size,cutoff,flavour='row-norm')\n",
    "#np.allclose(test,ref)"
   ]
  }
 ],
 "metadata": {
  "kernelspec": {
   "display_name": "Python 3",
   "language": "python",
   "name": "python3"
  },
  "language_info": {
   "codemirror_mode": {
    "name": "ipython",
    "version": 3
   },
   "file_extension": ".py",
   "mimetype": "text/x-python",
   "name": "python",
   "nbconvert_exporter": "python",
   "pygments_lexer": "ipython3",
   "version": "3.7.2"
  },
  "toc": {
   "base_numbering": 1,
   "nav_menu": {
    "height": "12px",
    "width": "252px"
   },
   "number_sections": true,
   "sideBar": true,
   "skip_h1_title": false,
   "title_cell": "Table of Contents",
   "title_sidebar": "Contents",
   "toc_cell": false,
   "toc_position": {},
   "toc_section_display": "block",
   "toc_window_display": false
  }
 },
 "nbformat": 4,
 "nbformat_minor": 2
}
