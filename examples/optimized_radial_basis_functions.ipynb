{
 "cells": [
  {
   "cell_type": "markdown",
   "metadata": {},
   "source": [
    "# Optimal radial basis construction"
   ]
  },
  {
   "cell_type": "markdown",
   "metadata": {},
   "source": [
    "This notebook provides a discussion, and a practical example of the application, of the construction of a data-driven optimal radial basis to expand the atom-centered neighbor density. \n",
    "See [REF] for a discussion of the idea and implementation."
   ]
  },
  {
   "cell_type": "code",
   "execution_count": null,
   "metadata": {},
   "outputs": [],
   "source": [
    "from ase.io import read\n",
    "from copy import deepcopy\n",
    "import numpy as np\n",
    "import matplotlib.pyplot as plt\n",
    "\n",
    "from rascal.representations import SphericalExpansion, SphericalInvariants\n",
    "from rascal.utils import (get_radial_basis_covariance, get_radial_basis_pca, \n",
    "                          get_radial_basis_projections, get_optimal_radial_basis_hypers )\n",
    "from rascal.utils import radial_basis"
   ]
  },
  {
   "cell_type": "markdown",
   "metadata": {},
   "source": [
    "# Loads the structures"
   ]
  },
  {
   "cell_type": "code",
   "execution_count": null,
   "metadata": {},
   "outputs": [],
   "source": [
    "import urllib.request\n",
    "# a collection of distorted ethanol molecules from the ANI-1 dataset \n",
    "# (see https://github.com/isayev/ANI1_dataset) with energies and forces computed using DFTB+ \n",
    "# (see https://www.dftbplus.org/)\n",
    "url = 'https://raw.githubusercontent.com/cosmo-epfl/librascal-example-data/833b4336a7daf471e16993158322b3ea807b9d3f/inputs/molecule_conformers_dftb.xyz'\n",
    "# Download the file from `url`, save it in a temporary directory and get the\n",
    "# path to it (e.g. '/tmp/tmpb48zma.txt') in the `structures_fn` variable:\n",
    "structures_fn, headers = urllib.request.urlretrieve(url)\n",
    "structures_fn"
   ]
  },
  {
   "cell_type": "code",
   "execution_count": null,
   "metadata": {},
   "outputs": [],
   "source": [
    "# Total number of structure to load\n",
    "N = 100\n",
    "\n",
    "# load the structures\n",
    "frames = read(structures_fn,':{}'.format(N))"
   ]
  },
  {
   "cell_type": "markdown",
   "metadata": {},
   "source": [
    "# Demonstrate the optimization"
   ]
  },
  {
   "cell_type": "markdown",
   "metadata": {},
   "source": [
    "first, we compute the density expansion coefficients on a representative dataset"
   ]
  },
  {
   "cell_type": "code",
   "execution_count": null,
   "metadata": {},
   "outputs": [],
   "source": [
    "spherical_expansion_hypers = {\n",
    "    \"interaction_cutoff\": 3,\n",
    "    \"max_radial\": 30,\n",
    "    \"max_angular\": 8,\n",
    "    \"gaussian_sigma_constant\": 0.3,\n",
    "    \"gaussian_sigma_type\": \"Constant\",\n",
    "    \"cutoff_smooth_width\": 0.5,\n",
    "    \"radial_basis\": \"DVR\",\n",
    "}\n",
    "\n",
    "spex = SphericalExpansion(**spherical_expansion_hypers)"
   ]
  },
  {
   "cell_type": "code",
   "execution_count": null,
   "metadata": {},
   "outputs": [],
   "source": [
    "%%time\n",
    "feats = spex.transform(frames).get_features_by_species(spex)"
   ]
  },
  {
   "cell_type": "markdown",
   "metadata": {},
   "source": [
    "rotation-invariant covariant matrices are computed separately for each species and angular channel\n",
    "then principal components are computed"
   ]
  },
  {
   "cell_type": "code",
   "execution_count": null,
   "metadata": {},
   "outputs": [],
   "source": [
    "%%time\n",
    "cov = get_radial_basis_covariance(spex, feats)"
   ]
  },
  {
   "cell_type": "code",
   "execution_count": null,
   "metadata": {},
   "outputs": [],
   "source": [
    "%%time\n",
    "p_val, p_vec = get_radial_basis_pca(cov)"
   ]
  },
  {
   "cell_type": "markdown",
   "metadata": {},
   "source": [
    "we can visualize the convergence of the principal components. hint: it's FAST!"
   ]
  },
  {
   "cell_type": "code",
   "execution_count": null,
   "metadata": {},
   "outputs": [],
   "source": [
    "plt.loglog(p_val[(1,)][0], 'r', label=\"H, l=0\")\n",
    "plt.loglog(p_val[(1,)][3], 'b', label=\"C, l=0\")\n",
    "plt.loglog(p_val[(6,)][0], 'r--', label=\"H, l=3\")\n",
    "plt.loglog(p_val[(6,)][3], 'b--', label=\"C, l=3\")\n",
    "plt.ylim(1e-12,1e-4)\n",
    "plt.xlabel(\"n\")\n",
    "plt.ylabel(\"$\\lambda$\")\n",
    "plt.legend()"
   ]
  },
  {
   "cell_type": "markdown",
   "metadata": {},
   "source": [
    "the principal components can be used as projectors to compute a contracted basis. 10 components are (way) more than enough!"
   ]
  },
  {
   "cell_type": "code",
   "execution_count": null,
   "metadata": {},
   "outputs": [],
   "source": [
    "p_mat = get_radial_basis_projections(p_vec, 10)"
   ]
  },
  {
   "cell_type": "code",
   "execution_count": null,
   "metadata": {},
   "outputs": [],
   "source": [
    "spherical_expansion_optimal_hypers = {\n",
    "    \"interaction_cutoff\": 3,\n",
    "    \"max_radial\": 10,\n",
    "    \"max_angular\": 8,\n",
    "    \"gaussian_sigma_constant\": 0.3,\n",
    "    \"gaussian_sigma_type\": \"Constant\",\n",
    "    \"cutoff_smooth_width\": 0.5,\n",
    "    \"radial_basis\": \"DVR\",\n",
    "    \"optimization\" : {\n",
    "        \"RadialDimReduction\" : {\"projection_matrices\": p_mat},\n",
    "        \"Spline\" : {\"accuracy\": 1e-8}\n",
    "    }\n",
    "}\n",
    "\n",
    "spex_optimal = SphericalExpansion(**spherical_expansion_optimal_hypers)"
   ]
  },
  {
   "cell_type": "markdown",
   "metadata": {},
   "source": [
    "evaluation is much faster because the contracted features are computed directly"
   ]
  },
  {
   "cell_type": "code",
   "execution_count": null,
   "metadata": {},
   "outputs": [],
   "source": [
    "%%time\n",
    "feats_optimal = spex_optimal.transform(frames).get_features(spex_optimal)"
   ]
  },
  {
   "cell_type": "markdown",
   "metadata": {},
   "source": [
    "we can also see how these functions look like \"in real space\""
   ]
  },
  {
   "cell_type": "code",
   "execution_count": null,
   "metadata": {},
   "outputs": [],
   "source": [
    "r_grid = np.linspace(1e-5,3.9,1000)\n",
    "dvr = radial_basis.radial_basis_functions_dvr(r_grid,\n",
    "                                              spherical_expansion_hypers[\"max_radial\"],\n",
    "                                              spherical_expansion_hypers[\"interaction_cutoff\"],\n",
    "                                              spherical_expansion_hypers[\"gaussian_sigma_constant\"])"
   ]
  },
  {
   "cell_type": "code",
   "execution_count": null,
   "metadata": {},
   "outputs": [],
   "source": [
    "p_dvr_h = p_vec[(1,)][0,:,:10].T @ dvr"
   ]
  },
  {
   "cell_type": "code",
   "execution_count": null,
   "metadata": {},
   "outputs": [],
   "source": [
    "for y in dvr:\n",
    "    plt.plot(r_grid, r_grid*y, ls=\":\")\n",
    "plt.plot(r_grid, r_grid*p_dvr_h[0], 'k')\n",
    "plt.plot(r_grid, r_grid*p_dvr_h[1], 'b')\n",
    "plt.plot(r_grid, r_grid*p_dvr_h[2], 'r')\n",
    "plt.ylim(-5,5)"
   ]
  },
  {
   "cell_type": "markdown",
   "metadata": {},
   "source": [
    "... and this works equally well with GTOs (and optimal functions are the same!)"
   ]
  },
  {
   "cell_type": "code",
   "execution_count": null,
   "metadata": {},
   "outputs": [],
   "source": [
    "spherical_expansion_hypers.update({\"radial_basis\": \"GTO\", \"max_radial\":20})\n",
    "spex = SphericalExpansion(**spherical_expansion_hypers)\n",
    "\n",
    "feats = spex.transform(frames).get_features_by_species(spex)\n",
    "cov = get_radial_basis_covariance(spex, feats)\n",
    "p_val, p_vec = get_radial_basis_pca(cov)"
   ]
  },
  {
   "cell_type": "code",
   "execution_count": null,
   "metadata": {},
   "outputs": [],
   "source": [
    "gto = radial_basis.radial_basis_functions_gto(r_grid,\n",
    "                                              spherical_expansion_hypers[\"max_radial\"],\n",
    "                                              spherical_expansion_hypers[\"interaction_cutoff\"])\n",
    "p_gto_h = p_vec[(1,)][0,:,:10].T @ gto"
   ]
  },
  {
   "cell_type": "code",
   "execution_count": null,
   "metadata": {},
   "outputs": [],
   "source": [
    "for y in gto:\n",
    "    plt.plot(r_grid, r_grid*y, ls=\":\")\n",
    "plt.plot(r_grid, p_gto_h[0], 'k')\n",
    "plt.plot(r_grid, p_gto_h[1], 'b')\n",
    "plt.plot(r_grid, -p_gto_h[2], 'r')\n",
    "plt.ylim(-5,5)"
   ]
  },
  {
   "cell_type": "markdown",
   "metadata": {},
   "source": [
    "# Streamlined helper function"
   ]
  },
  {
   "cell_type": "code",
   "execution_count": null,
   "metadata": {},
   "outputs": [],
   "source": [
    "soap_hypers = {\n",
    "    \"soap_type\": \"PowerSpectrum\",\n",
    "    \"interaction_cutoff\": 3,\n",
    "    \"max_radial\": 8,\n",
    "    \"max_angular\": 5,\n",
    "    \"gaussian_sigma_constant\": 0.3,\n",
    "    \"gaussian_sigma_type\": \"Constant\",\n",
    "    \"cutoff_smooth_width\": 0.5,\n",
    "    \"radial_basis\": \"GTO\",\n",
    "    \"normalize\": False\n",
    "}"
   ]
  },
  {
   "cell_type": "code",
   "execution_count": null,
   "metadata": {},
   "outputs": [],
   "source": [
    "soap_hypers = get_optimal_radial_basis_hypers(soap_hypers, frames, expanded_max_radial=20)"
   ]
  },
  {
   "cell_type": "code",
   "execution_count": null,
   "metadata": {},
   "outputs": [],
   "source": [
    "soap_optimal = SphericalInvariants(**soap_hypers)"
   ]
  },
  {
   "cell_type": "markdown",
   "metadata": {},
   "source": [
    "### In this example notebook we show how to compute spherical invariants for optimized radial basis functions."
   ]
  },
  {
   "cell_type": "code",
   "execution_count": null,
   "metadata": {},
   "outputs": [],
   "source": [
    "import copy\n",
    "import numpy as np\n",
    "\n",
    "from rascal.representations import SphericalExpansion, SphericalInvariants\n",
    "import ase\n",
    "\n",
    "def construct_dimer_frames(begin_range=1, end_range=2, step_size=0.01):\n",
    "    \"\"\"\n",
    "    Construct ase dimer frames from `range_begin` to `range_end` with uniformly\n",
    "    with step size `step_size`\n",
    "    \"\"\"\n",
    "    assert begin_range < end_range\n",
    "    nb_dimers = int((end_range - begin_range) / step_size)\n",
    "    distance = begin_range\n",
    "\n",
    "    frames = [ase.Atoms(\"CH\")]\n",
    "    # large enough cell\n",
    "    frames[0].cell = [end_range + 50, end_range + 50, end_range + 50]\n",
    "    frames[0].pbc = [False, False, False]\n",
    "    frames[0][0].position = [0, 0, 0]\n",
    "    frames[0][1].position = [0, 0, distance]\n",
    "\n",
    "    for i in range(nb_dimers):\n",
    "        distance += step_size\n",
    "        frames.append(copy.deepcopy(frames[i]))\n",
    "        frames[i + 1][1].position = [0, 0, distance]\n",
    "    return frames\n",
    "\n",
    "\n",
    "frames = construct_dimer_frames(begin_range=1, end_range=2, step_size=0.01)\n",
    "\n",
    "\n"
   ]
  },
  {
   "cell_type": "code",
   "execution_count": null,
   "metadata": {},
   "outputs": [],
   "source": [
    "n_environments = sum([len(frame) for frame in frames])\n",
    "max_radial = 5\n",
    "expanded_max_radial = 20\n",
    "max_angular = 0\n",
    "species = [int(sp) for sp in np.unique([frame.numbers for frame in frames])]\n",
    "n_species = len(species)\n",
    "gaussian_sigma = 0.5\n",
    "cutoff = 5\n",
    "\n",
    "spherical_expansion_hypers = {\n",
    "    \"interaction_cutoff\": cutoff,\n",
    "    \"max_radial\": expanded_max_radial,\n",
    "    \"max_angular\": max_angular,\n",
    "    \"gaussian_sigma_constant\": gaussian_sigma,\n",
    "    \"gaussian_sigma_type\": \"Constant\",\n",
    "    \"cutoff_smooth_width\": 0.5,\n",
    "    \"radial_basis\": \"DVR\",\n",
    "}\n",
    "\n",
    "# compute projection matrices\n",
    "spherical_expansion_calculator = SphericalExpansion(**spherical_expansion_hypers)\n",
    "spherical_expansion_coefficients = spherical_expansion_calculator.transform(\n",
    "    frames\n",
    ").get_features(spherical_expansion_calculator)\n",
    "\n",
    "invariant_covariance_matrices = compute_invariant_covariance_matrices(\n",
    "    spherical_expansion_coefficients, n_species, expanded_max_radial, max_angular\n",
    ")\n",
    "projection_matrices = {}\n",
    "for a_idx, species in enumerate(species):\n",
    "    projection_matrices[species] = []\n",
    "    for l in range(max_angular + 1):\n",
    "        projection_matrices[species].append(\n",
    "            compute_projection_matrix(\n",
    "                invariant_covariance_matrices[a_idx, l], max_radial\n",
    "            ).tolist()\n",
    "        )"
   ]
  },
  {
   "cell_type": "markdown",
   "metadata": {},
   "source": [
    "### Comute the hydrogen channel for the carbon environments\n"
   ]
  },
  {
   "cell_type": "code",
   "execution_count": null,
   "metadata": {},
   "outputs": [],
   "source": [
    "spherical_invariant_hypers = copy.deepcopy(spherical_expansion_hypers)\n",
    "\n",
    "# Take the large max radial value as ground truth\n",
    "spherical_invariant_hypers[\"soap_type\"] = \"RadialSpectrum\"\n",
    "spherical_invariant_hypers[\"normalize\"] = False\n",
    "spherical_invariant_hypers[\"max_radial\"] = expanded_max_radial\n",
    "\n",
    "full_radial_spectrum_calculator = SphericalInvariants(**spherical_invariant_hypers)\n",
    "full_radial_spectrum = full_radial_spectrum_calculator.transform(\n",
    "    frames\n",
    ").get_features_by_species(full_radial_spectrum_calculator)[(1,)][0::2]\n",
    "\n",
    "\n",
    "# Any soap_type can be used with RadialDimReduction,\n",
    "# we choose RadialSpectrum to make radial plots\n",
    "spherical_invariant_hypers[\"soap_type\"] = \"RadialSpectrum\"\n",
    "spherical_invariant_hypers[\"normalize\"] = False\n",
    "spherical_invariant_hypers[\"max_radial\"] = max_radial\n",
    "\n",
    "radial_spectrum_calculator = SphericalInvariants(**spherical_invariant_hypers)\n",
    "radial_spectrum = radial_spectrum_calculator.transform(frames).get_features_by_species(\n",
    "    radial_spectrum_calculator\n",
    ")[(1,)][0::2]\n",
    "\n",
    "\n",
    "# optimized projection from expanded_max_radial to max_radial basis functions\n",
    "spherical_invariant_hypers[\"soap_type\"] = \"RadialSpectrum\"\n",
    "spherical_invariant_hypers[\"normalize\"] = False\n",
    "optimization = {}\n",
    "optimization[\"RadialDimReduction\"] = {\"projection_matrices\": projection_matrices}\n",
    "optimization[\"Spline\"] = {\"accuracy\": 1e-8}\n",
    "spherical_invariant_hypers[\"optimization\"] = optimization\n",
    "\n",
    "optimized_radial_spectrum_calculator = SphericalInvariants(**spherical_invariant_hypers)\n",
    "optimized_radial_spectrum = optimized_radial_spectrum_calculator.transform(\n",
    "    frames\n",
    ").get_features_by_species(optimized_radial_spectrum_calculator)[(1,)][0::2]"
   ]
  },
  {
   "cell_type": "markdown",
   "metadata": {},
   "source": [
    "### "
   ]
  },
  {
   "cell_type": "code",
   "execution_count": null,
   "metadata": {},
   "outputs": [],
   "source": []
  },
  {
   "cell_type": "markdown",
   "metadata": {},
   "source": [
    "### We compute the real space reconstruction of the radial spectrum for the hydrogen channel of the carbon environments"
   ]
  },
  {
   "cell_type": "code",
   "execution_count": null,
   "metadata": {},
   "outputs": [],
   "source": [
    "radial_grid = np.linspace(0.2, 5, 100)\n",
    "\n",
    "# some random carbon environment\n",
    "i_env = 50\n",
    "\n",
    "# R_n(r) on radial grid\n",
    "expanded_radial_basis_functions = radial_basis_functions_dvr(\n",
    "    radial_grid, expanded_max_radial, cutoff, gaussian_sigma\n",
    ")\n",
    "radial_basis_functions = radial_basis_functions_dvr(\n",
    "    radial_grid, max_radial, cutoff, gaussian_sigma\n",
    ")\n",
    "\n",
    "\n",
    "real_space_full_radial_spectrum = full_radial_spectrum @ expanded_radial_basis_functions\n",
    "real_space_radial_spectrum = radial_spectrum @ radial_basis_functions\n",
    "# Compute optimized radial basis function R_q for hydrogen channnel and angular channel = 0\n",
    "optimized_radial_basis_functions = (\n",
    "    np.array(projection_matrices[1][0]) @ expanded_radial_basis_functions\n",
    ")\n",
    "real_space_optimized_radial_spectrum = (\n",
    "    optimized_radial_spectrum @ optimized_radial_basis_functions\n",
    ")"
   ]
  },
  {
   "cell_type": "code",
   "execution_count": null,
   "metadata": {},
   "outputs": [],
   "source": [
    "import matplotlib.pyplot as plt\n",
    "\n",
    "plt.plot(\n",
    "    radial_grid,\n",
    "    real_space_radial_spectrum[i_env],\n",
    "    color=\"b\",\n",
    "    lw=4,\n",
    "    label=\"standard DVR: $\\sum_n^{\" + str(max_radial) + \"} <H n00|ρ_C> R_n(r)$\",\n",
    ")\n",
    "plt.plot(\n",
    "    radial_grid,\n",
    "    real_space_optimized_radial_spectrum[i_env],\n",
    "    color=\"g\",\n",
    "    lw=4,\n",
    "    label=\"optimized DVR: $\\sum_q^{\" + str(max_radial) + \"} <H q00|ρ_C> R_q(r)$\",\n",
    ")\n",
    "plt.plot(\n",
    "    radial_grid,\n",
    "    real_space_full_radial_spectrum[i_env],\n",
    "    color=\"r\",\n",
    "    linestyle=\"--\",\n",
    "    lw=4,\n",
    "    label=\"full DVR: $\\sum_n^{\" + str(expanded_max_radial) + \"} <H n00|ρ_C> R_n(r)$\",\n",
    ")\n",
    "plt.title(\n",
    "    \"Comparison for DVR vs optimized DVR\\n for radial spectrum real space reconstruction\"\n",
    ")\n",
    "plt.legend()\n",
    "plt.show()\n",
    "plt.close()"
   ]
  },
  {
   "cell_type": "markdown",
   "metadata": {},
   "source": [
    "#### The full DVR real space radial spectrum can be better reconstructed with optimized DVR than with the standard DVR."
   ]
  }
 ],
 "metadata": {
  "kernelspec": {
   "display_name": "Python 3",
   "language": "python",
   "name": "python3"
  },
  "language_info": {
   "codemirror_mode": {
    "name": "ipython",
    "version": 3
   },
   "file_extension": ".py",
   "mimetype": "text/x-python",
   "name": "python",
   "nbconvert_exporter": "python",
   "pygments_lexer": "ipython3",
   "version": "3.8.5"
  },
  "toc": {
   "base_numbering": 1,
   "nav_menu": {},
   "number_sections": true,
   "sideBar": true,
   "skip_h1_title": false,
   "title_cell": "Table of Contents",
   "title_sidebar": "Contents",
   "toc_cell": false,
   "toc_position": {},
   "toc_section_display": true,
   "toc_window_display": false
  }
 },
 "nbformat": 4,
 "nbformat_minor": 4
}
