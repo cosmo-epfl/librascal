{
 "cells": [
  {
   "cell_type": "code",
   "execution_count": 1,
   "metadata": {},
   "outputs": [],
   "source": [
    "import numpy as np\n",
    "import matplotlib.pyplot as plt\n",
    "import matplotlib.patches as ptc\n",
    "from IPython.core.display import clear_output\n",
    "import ase, itertools\n",
    "from ase.visualize import view\n",
    "from ase import Atoms\n",
    "from copy import deepcopy\n",
    "from scipy.spatial.distance import pdist\n",
    "from itertools import product"
   ]
  },
  {
   "cell_type": "markdown",
   "metadata": {},
   "source": [
    "# generate random cell"
   ]
  },
  {
   "cell_type": "code",
   "execution_count": 6,
   "metadata": {},
   "outputs": [],
   "source": [
    "# Hexagonal v1 = a(1,0,0),  v2 = a(-1/2,sqrt(3)/2,0),  v3 = a(0,0,c/a)\n",
    "a = 2\n",
    "c = 2\n",
    "nat = 10    # number of atoms\n",
    "rrange = 5.0 # range of x positions\n",
    "dim = 3      # dimensionality\n",
    "cutoff = 3.0 # cutoff for interactions\n",
    "h = a*np.array([[1,0,0],[-0.5,np.sqrt(3)/2,0],[0,0,c/a]])\n",
    "h = a*np.array([[1,0,0],[-2,np.sqrt(3)/2,0],[0,0,c/a]])\n",
    "r = np.random.uniform(low=-rrange, high=2*rrange, size=(nat, dim))\n",
    "pbc = [True,True,True]\n",
    "frame = Atoms(positions=r,cell=h,numbers=nat*[1,],pbc=pbc)\n",
    "# view(frame)\n",
    "# frame.wrap()\n",
    "# r = frame.positions"
   ]
  },
  {
   "cell_type": "code",
   "execution_count": 7,
   "metadata": {},
   "outputs": [],
   "source": [
    "aa = deepcopy(frame)\n",
    "aa.wrap()\n",
    "view([frame,aa])\n",
    "# view(frame)"
   ]
  },
  {
   "cell_type": "code",
   "execution_count": 11,
   "metadata": {},
   "outputs": [
    {
     "data": {
      "text/plain": [
       "array([[-0.34834668, -1.68187962, -0.70554108],\n",
       "       [-1.03894597, -2.27721645,  3.98764987],\n",
       "       [ 2.59495547, -0.58016963,  0.32537968],\n",
       "       [ 3.3750632 , -0.46419375,  4.6523518 ],\n",
       "       [-2.75421237, -0.64839476, -0.26941782],\n",
       "       [12.15262506,  5.15707723,  1.01800493],\n",
       "       [ 6.40336685,  4.0214583 , -1.09468046],\n",
       "       [-7.06721057, -2.28810677,  1.48355423],\n",
       "       [12.21949853,  4.72221192,  0.90812567],\n",
       "       [14.18111087,  5.26527129,  0.07652688]])"
      ]
     },
     "execution_count": 11,
     "metadata": {},
     "output_type": "execute_result"
    }
   ],
   "source": [
    "cell = frame.cell\n",
    "pos = frame.positions\n",
    "np.dot(np.linalg.inv(cell).T,pos.T).T"
   ]
  },
  {
   "cell_type": "code",
   "execution_count": 17,
   "metadata": {},
   "outputs": [
    {
     "data": {
      "text/plain": [
       "array([[ 6.03082511, -2.91310095, -1.41108216],\n",
       "       [ 7.03097386, -3.94425459,  7.97529975],\n",
       "       [ 7.51058946, -1.00488327,  0.65075937],\n",
       "       [ 8.6069014 , -0.80400715,  9.3047036 ],\n",
       "       [-2.91484571, -1.12305266, -0.53883564],\n",
       "       [ 3.67694118,  8.93231979,  2.03600986],\n",
       "       [-3.27909952,  6.9653701 , -2.18936091],\n",
       "       [-4.98199406, -3.96311718,  2.96710847],\n",
       "       [ 5.5501494 ,  8.17911096,  1.81625134],\n",
       "       [ 7.30113658,  9.11971739,  0.15305376]])"
      ]
     },
     "execution_count": 17,
     "metadata": {},
     "output_type": "execute_result"
    }
   ],
   "source": [
    "frame.positions"
   ]
  },
  {
   "cell_type": "code",
   "execution_count": 19,
   "metadata": {},
   "outputs": [
    {
     "data": {
      "text/plain": [
       "array([[0.65165332, 0.31812038, 0.29445892],\n",
       "       [0.96105403, 0.72278355, 0.98764987],\n",
       "       [0.59495547, 0.41983037, 0.32537968],\n",
       "       [0.3750632 , 0.53580625, 0.6523518 ],\n",
       "       [0.24578763, 0.35160524, 0.73058218],\n",
       "       [0.15262506, 0.15707723, 0.01800493],\n",
       "       [0.40336685, 0.0214583 , 0.90531954],\n",
       "       [0.93278943, 0.71189323, 0.48355423],\n",
       "       [0.21949853, 0.72221192, 0.90812567],\n",
       "       [0.18111087, 0.26527129, 0.07652688]])"
      ]
     },
     "execution_count": 19,
     "metadata": {},
     "output_type": "execute_result"
    }
   ],
   "source": [
    "frame.get_scaled_positions(wrap=False) % 1.0"
   ]
  },
  {
   "cell_type": "code",
   "execution_count": 18,
   "metadata": {},
   "outputs": [
    {
     "data": {
      "text/plain": [
       "array([[ 0.03082511,  0.55100066,  0.58891784],\n",
       "       [-0.96902614,  1.25189783,  1.97529975],\n",
       "       [-0.48941054,  0.72716753,  0.65075937],\n",
       "       [-1.3930986 ,  0.92804365,  1.3047036 ],\n",
       "       [-0.91484571,  0.60899815,  1.46116436],\n",
       "       [-0.32305882,  0.27206575,  0.03600986],\n",
       "       [ 0.72090048,  0.03716687,  1.81063909],\n",
       "       [-0.98199406,  1.23303524,  0.96710847],\n",
       "       [-2.4498506 ,  1.25090773,  1.81625134],\n",
       "       [-0.69886342,  0.45946335,  0.15305376]])"
      ]
     },
     "execution_count": 18,
     "metadata": {},
     "output_type": "execute_result"
    }
   ],
   "source": [
    "aa.positions"
   ]
  },
  {
   "cell_type": "code",
   "execution_count": 13,
   "metadata": {},
   "outputs": [],
   "source": [
    "view(frame)"
   ]
  },
  {
   "cell_type": "code",
   "execution_count": 9,
   "metadata": {},
   "outputs": [],
   "source": [
    "ase.io.write('../reference_data/outputs/dummy_structure.json',frame)\n",
    "ase.io.write('../reference_data/outputs/dummy_structure_wrapped.json',aa)"
   ]
  },
  {
   "cell_type": "markdown",
   "metadata": {},
   "source": [
    "# builds neighbor list"
   ]
  },
  {
   "cell_type": "markdown",
   "metadata": {},
   "source": [
    "## determines bounding box and periodic images"
   ]
  },
  {
   "cell_type": "markdown",
   "metadata": {},
   "source": [
    "bounding box, including a cutoff-sized skin. this is the range we need to cover with periodic copies of the cell to find neighbors for all atoms"
   ]
  },
  {
   "cell_type": "code",
   "execution_count": 100,
   "metadata": {},
   "outputs": [],
   "source": [
    "frame = ase.io.read('../reference_data/outputs/test.json')\n",
    "r = frame.positions\n",
    "nat = len(frame)\n",
    "h = frame.cell\n",
    "pbc = frame.pbc\n"
   ]
  },
  {
   "cell_type": "code",
   "execution_count": 101,
   "metadata": {},
   "outputs": [
    {
     "data": {
      "text/plain": [
       "array([[-5.39399168, -7.9733564 , -6.1409413 ],\n",
       "       [ 9.64698371,  8.32185882,  7.82852179]])"
      ]
     },
     "execution_count": 101,
     "metadata": {},
     "output_type": "execute_result"
    }
   ],
   "source": [
    "bb = np.asarray([ r.min(axis=0), r.max(axis=0) ])\n",
    "bb[0] -= cutoff\n",
    "bb[1] += cutoff\n",
    "bb[0] -= cutoff\n",
    "bb[1] += cutoff\n",
    "bb"
   ]
  },
  {
   "cell_type": "code",
   "execution_count": 102,
   "metadata": {
    "code_folding": [
     0
    ]
   },
   "outputs": [
    {
     "name": "stdout",
     "output_type": "stream",
     "text": [
      "2515 39304 2515 1629\n"
     ]
    }
   ],
   "source": [
    "def isotropic_growth():\n",
    "    images = []\n",
    "    bounds_p = np.ones(3,int)\n",
    "    bounds_m = -np.ones(3,int)\n",
    "    carry_on = True\n",
    "    norm_bound = np.array([1,2])\n",
    "    while carry_on:\n",
    "        updates = False\n",
    "        tests = []\n",
    "        for ix in range(bounds_m[0],bounds_p[0]+1):\n",
    "            for iy in range(bounds_m[1],bounds_p[1]+1):\n",
    "                for iz in range(bounds_m[2],bounds_p[2]+1):\n",
    "                    ic = np.array([ix,iy,iz])\n",
    "                    ic_n = np.linalg.norm(ic)\n",
    "                    if ic_n < norm_bound[0] or ic_n >= norm_bound[1]:\n",
    "                        continue\n",
    "                    tests.append(ic_n)\n",
    "                    offset = np.dot(ic,h)\n",
    "                    ro = r + offset\n",
    "                    for ri in ro:\n",
    "                        if np.all(ri>=bb[0]) and np.all(ri<=bb[1]):\n",
    "                            images.append(ri)\n",
    "                            updates = True\n",
    "        # print(bounds_p,bounds_m)\n",
    "        if updates is False:\n",
    "            carry_on = False\n",
    "        bounds_p += 1\n",
    "        bounds_m -= 1\n",
    "        norm_bound += 1\n",
    "\n",
    "    im = np.asarray(images)     \n",
    "    nreplicas = np.prod(bounds_p - bounds_m)\n",
    "    return im, nreplicas\n",
    "\n",
    "def grow_and_check(ic, pcells, images):\n",
    "    for d in product([-1, 0, 1],repeat=dim):\n",
    "        ncd = tuple(np.asarray(ic,int)+np.asarray(d))\n",
    "        if ncd in pcells:\n",
    "            continue\n",
    "        offset = np.dot(np.asarray(ncd),h)\n",
    "        ro = r + offset\n",
    "        found_any = False\n",
    "        for ri in ro:\n",
    "            if all(ri>=bb[0]) and all(ri<=bb[1]):\n",
    "                found_any = True\n",
    "                images.append(ri)  \n",
    "        pcells.append(ncd)\n",
    "        if found_any:\n",
    "            grow_and_check(ncd, pcells, images)\n",
    "    return np.asarray(images), len(pcells)\n",
    "\n",
    "im_iso, nreplicas_iso = isotropic_growth()\n",
    "ic = np.zeros(dim, int)\n",
    "pcells = [tuple(ic)]\n",
    "images = []\n",
    "im_it, nreplicas_it = grow_and_check(ic,pcells,images)\n",
    "\n",
    "print(len(im_iso),nreplicas_iso,len(im_it),nreplicas_it)\n",
    "\n"
   ]
  },
  {
   "cell_type": "code",
   "execution_count": 84,
   "metadata": {},
   "outputs": [
    {
     "data": {
      "text/plain": [
       "(array([-12,  -5,  -3]), array([11,  5,  3]))"
      ]
     },
     "execution_count": 84,
     "metadata": {},
     "output_type": "execute_result"
    }
   ],
   "source": [
    "np.min(pcells,axis=0), np.max(pcells,axis=0)"
   ]
  },
  {
   "cell_type": "code",
   "execution_count": 85,
   "metadata": {},
   "outputs": [
    {
     "name": "stdout",
     "output_type": "stream",
     "text": [
      "[-12  -5  -3]\n"
     ]
    }
   ],
   "source": [
    "aa = np.min(pcells,axis=0)\n",
    "print(aa[:100])"
   ]
  },
  {
   "cell_type": "code",
   "execution_count": 86,
   "metadata": {},
   "outputs": [
    {
     "data": {
      "text/plain": [
       "array([], dtype=float64)"
      ]
     },
     "execution_count": 86,
     "metadata": {},
     "output_type": "execute_result"
    }
   ],
   "source": [
    "dd = pdist(im_it)\n",
    "dd[np.abs(dd) < 1e-3]"
   ]
  },
  {
   "cell_type": "code",
   "execution_count": 89,
   "metadata": {},
   "outputs": [],
   "source": [
    "im = im_it\n",
    "frame_filled = Atoms(positions=np.vstack([r,im]),cell=h,numbers=nat*[8,]+len(im)*[1],pbc=pbc)\n",
    "view(frame_filled)"
   ]
  },
  {
   "cell_type": "markdown",
   "metadata": {},
   "source": [
    "## builds linked cells"
   ]
  },
  {
   "cell_type": "markdown",
   "metadata": {},
   "source": [
    "since we computed all the necessary images, we can make linked cells that are exactly rc"
   ]
  },
  {
   "cell_type": "code",
   "execution_count": 103,
   "metadata": {},
   "outputs": [
    {
     "data": {
      "text/plain": [
       "array([6, 6, 5])"
      ]
     },
     "execution_count": 103,
     "metadata": {},
     "output_type": "execute_result"
    }
   ],
   "source": [
    "ncells = np.asarray(np.ceil((bb[1]-bb[0])/cutoff),int)\n",
    "ncells"
   ]
  },
  {
   "cell_type": "markdown",
   "metadata": {},
   "source": [
    "to which cell do each point belong?"
   ]
  },
  {
   "cell_type": "code",
   "execution_count": 91,
   "metadata": {},
   "outputs": [
    {
     "data": {
      "text/plain": [
       "array([[1, 2, 1],\n",
       "       [2, 2, 1],\n",
       "       [1, 0, 1],\n",
       "       [1, 1, 1],\n",
       "       [1, 1, 1]])"
      ]
     },
     "execution_count": 91,
     "metadata": {},
     "output_type": "execute_result"
    }
   ],
   "source": [
    "icr = np.asarray(np.floor((r-bb[0])/cutoff),int)\n",
    "icim = np.asarray(np.floor((im-bb[0])/cutoff),int)\n",
    "icr"
   ]
  },
  {
   "cell_type": "code",
   "execution_count": 92,
   "metadata": {
    "code_folding": [
     0,
     6,
     13
    ]
   },
   "outputs": [],
   "source": [
    "class Boxes(object):\n",
    "    def __init__(self,ncells):\n",
    "        self.ncells = ncells\n",
    "        self.boxes = []\n",
    "        for ii in range(np.prod(ncells)):\n",
    "            self.boxes.append([])\n",
    "    def get_lin_idx(self, pos_3d):\n",
    "        lin_idx = 0\n",
    "        fac = 1\n",
    "        for ii,p in enumerate(pos_3d):\n",
    "            lin_idx += fac*p\n",
    "            fac *= self.ncells[ii]\n",
    "        return lin_idx\n",
    "    def get_mult_idx(self, lin_idx):\n",
    "        pos_3d = np.array([0,0,0],int)\n",
    "        for ii in range(3):\n",
    "            pos_3d[ii] = lin_idx % self.ncells[ii]\n",
    "            lin_idx /= self.ncells[ii]\n",
    "        return pos_3d\n",
    "    def __getitem__(self,pos_3d):\n",
    "        return self.boxes[self.get_lin_idx(pos_3d)]\n",
    "    def get_size(self,pos_3d):\n",
    "        return len(self.boxes[self.get_lin_idx(pos_3d)])\n",
    "    def __repr__(self):\n",
    "        return str(self.boxes)\n",
    "    def __str__(self):\n",
    "        return self.__repr__()\n",
    "    def __iter__(self):\n",
    "        for box in self.boxes:\n",
    "            yield box\n",
    "    def get_neighbour_boxes(self,lin_idx):\n",
    "        pos_3d = self.get_mult_idx(lin_idx)\n",
    "        # print(pos_3d)\n",
    "        \n",
    "        for ix,iy,iz in product([-1, 0, 1],repeat=dim):\n",
    "            if ix == 0 and iy == 0 and iz == 0: continue\n",
    "            lin_idx = self.get_lin_idx(pos_3d+np.array([ix,iy,iz]))\n",
    "            if len(self.boxes[lin_idx]) > 0:\n",
    "                yield self.boxes[lin_idx]"
   ]
  },
  {
   "cell_type": "code",
   "execution_count": 93,
   "metadata": {},
   "outputs": [],
   "source": [
    "ci = Boxes(ncells)\n",
    "for i, ic in enumerate(icr):    \n",
    "    ci[ic].append(i)"
   ]
  },
  {
   "cell_type": "code",
   "execution_count": 96,
   "metadata": {
    "collapsed": true
   },
   "outputs": [
    {
     "name": "stdout",
     "output_type": "stream",
     "text": [
      "[0, 0, 0] [0 0 0]\n",
      "[0, 0, 1] [0 0 1]\n",
      "[0, 0, 2] [0 0 2]\n",
      "[0, 1, 0] [0 1 0]\n",
      "[0, 1, 1] [0 1 1]\n",
      "[0, 1, 2] [0 1 2]\n",
      "[0, 2, 0] [0 2 0]\n",
      "[0, 2, 1] [0 2 1]\n",
      "[0, 2, 2] [0 2 2]\n",
      "[0, 3, 0] [0 3 0]\n",
      "[0, 3, 1] [0 3 1]\n",
      "[0, 3, 2] [0 3 2]\n",
      "[1, 0, 0] [1 0 0]\n",
      "[1, 0, 1] [1 0 1]\n",
      "[1, 0, 2] [1 0 2]\n",
      "[1, 1, 0] [1 1 0]\n",
      "[1, 1, 1] [1 1 1]\n",
      "[1, 1, 2] [1 1 2]\n",
      "[1, 2, 0] [1 2 0]\n",
      "[1, 2, 1] [1 2 1]\n",
      "[1, 2, 2] [1 2 2]\n",
      "[1, 3, 0] [1 3 0]\n",
      "[1, 3, 1] [1 3 1]\n",
      "[1, 3, 2] [1 3 2]\n",
      "[2, 0, 0] [2 0 0]\n",
      "[2, 0, 1] [2 0 1]\n",
      "[2, 0, 2] [2 0 2]\n",
      "[2, 1, 0] [2 1 0]\n",
      "[2, 1, 1] [2 1 1]\n",
      "[2, 1, 2] [2 1 2]\n",
      "[2, 2, 0] [2 2 0]\n",
      "[2, 2, 1] [2 2 1]\n",
      "[2, 2, 2] [2 2 2]\n",
      "[2, 3, 0] [2 3 0]\n",
      "[2, 3, 1] [2 3 1]\n",
      "[2, 3, 2] [2 3 2]\n",
      "[3, 0, 0] [3 0 0]\n",
      "[3, 0, 1] [3 0 1]\n",
      "[3, 0, 2] [3 0 2]\n",
      "[3, 1, 0] [3 1 0]\n",
      "[3, 1, 1] [3 1 1]\n",
      "[3, 1, 2] [3 1 2]\n",
      "[3, 2, 0] [3 2 0]\n",
      "[3, 2, 1] [3 2 1]\n",
      "[3, 2, 2] [3 2 2]\n",
      "[3, 3, 0] [3 3 0]\n",
      "[3, 3, 1] [3 3 1]\n",
      "[3, 3, 2] [3 3 2]\n"
     ]
    }
   ],
   "source": [
    "for ix in range(4):\n",
    "    for iy in range(4):\n",
    "        for iz in range(3):\n",
    "            aa = [ix,iy,iz]\n",
    "            lin_idx = ci.get_lin_idx(aa)\n",
    "            out = ci.get_mult_idx(lin_idx)\n",
    "            print(aa,out)\n"
   ]
  },
  {
   "cell_type": "code",
   "execution_count": null,
   "metadata": {},
   "outputs": [],
   "source": [
    "ciim = Boxes(ncells)\n",
    "for i, ic in enumerate(icim):    \n",
    "    ciim[ic].append(i+nat)"
   ]
  },
  {
   "cell_type": "markdown",
   "metadata": {},
   "source": [
    "just put all atoms in the neighboring cells as neighbors"
   ]
  },
  {
   "cell_type": "code",
   "execution_count": null,
   "metadata": {
    "code_folding": []
   },
   "outputs": [],
   "source": [
    "# array with all positions\n",
    "all_pos = np.vstack([r,im])\n",
    "# the NL\n",
    "NL = [[] for ii in range(nat)]\n",
    "for ibox_lin, cbox in enumerate(ci):\n",
    "    cbox_np = np.array(cbox)\n",
    "    for center_idx in cbox:\n",
    "        # print(center_idx)\n",
    "        # add centers that are in the same box\n",
    "        NL[center_idx].extend(list(cbox_np[cbox_np != center_idx]))\n",
    "        # add centers from the neighboring boxes\n",
    "        for neigh_box in ci.get_neighbour_boxes(ibox_lin):\n",
    "            NL[center_idx].extend(neigh_box)\n",
    "        # add images from the same box\n",
    "        NL[center_idx].extend(ciim.boxes[ibox_lin])\n",
    "        # add images from the neighboring boxes\n",
    "        for neigh_box in ciim.get_neighbour_boxes(ibox_lin):\n",
    "            NL[center_idx].extend(neigh_box)\n",
    "distances = [[] for ii in range(nat)]\n",
    "for icenter in range(nat):\n",
    "    for ineigh in NL[icenter]:\n",
    "        dist = np.linalg.norm(all_pos[icenter] - all_pos[ineigh])\n",
    "        distances[icenter].append(dist)"
   ]
  },
  {
   "cell_type": "code",
   "execution_count": 105,
   "metadata": {},
   "outputs": [],
   "source": [
    "from ase.io import read\n",
    "ff = read('../reference_data/inputs/alloy-small.json')\n",
    "cell = ff.cell\n",
    "positions = ff.positions"
   ]
  },
  {
   "cell_type": "code",
   "execution_count": 106,
   "metadata": {
    "code_folding": []
   },
   "outputs": [],
   "source": [
    "fractional = np.linalg.solve(cell.T,\n",
    "                                 np.asarray(positions).T).T"
   ]
  },
  {
   "cell_type": "code",
   "execution_count": 123,
   "metadata": {},
   "outputs": [],
   "source": [
    "aa = ase.Atoms(positions=[[0,0,0],[ 0.5, 0.288675, 0.816497]],cell=[[ 1   ,     0  ,      0],[-0.5, 0.866025  ,      0],[ 0   ,     0,  1.63299]])\n",
    "view(aa)"
   ]
  },
  {
   "cell_type": "code",
   "execution_count": 122,
   "metadata": {},
   "outputs": [],
   "source": [
    "aa = ase.Atoms(positions=[[0,0,0],[ 0.,  0.816497 , 0.57735     ]],cell=[[ 1   ,     0  ,      0],[-0.,  1.63299  ,      0],[ 0.5  ,     0,  0.866025]])\n",
    "view(aa)"
   ]
  },
  {
   "cell_type": "code",
   "execution_count": 129,
   "metadata": {},
   "outputs": [
    {
     "data": {
      "text/plain": [
       "array([[ 1.       ,  0.       ,  0.       ],\n",
       "       [-0.       ,  0.866025 ,  0.       ],\n",
       "       [ 0.       ,  0.       ,  0.4082475]])"
      ]
     },
     "execution_count": 129,
     "metadata": {},
     "output_type": "execute_result"
    }
   ],
   "source": [
    "np.diag([1.,1.,1/4.]) * aa.cell"
   ]
  },
  {
   "cell_type": "code",
   "execution_count": 130,
   "metadata": {},
   "outputs": [
    {
     "data": {
      "text/plain": [
       "0.5"
      ]
     },
     "execution_count": 130,
     "metadata": {},
     "output_type": "execute_result"
    }
   ],
   "source": [
    "-1.5 % 1."
   ]
  },
  {
   "cell_type": "code",
   "execution_count": 119,
   "metadata": {},
   "outputs": [],
   "source": [
    "aa = np.linalg.inv(cell)\n",
    "frac = np.dot(positions, aa.T)"
   ]
  },
  {
   "cell_type": "code",
   "execution_count": 120,
   "metadata": {},
   "outputs": [
    {
     "data": {
      "text/plain": [
       "array([[ 0.        , -0.01005538, -0.00711023],\n",
       "       [-0.49999997, -0.04465822,  0.32197524],\n",
       "       [-0.05      , -0.00446582,  0.03219752],\n",
       "       [-0.44999998, -0.0401924 ,  0.28977771],\n",
       "       [-0.34999998, -0.03126075,  0.22538266],\n",
       "       [-0.14999999, -0.01339747,  0.09659257],\n",
       "       [-0.49999997,  0.2886751 ,  0.55767749],\n",
       "       [-0.99999995,  0.24401688,  0.87965272],\n",
       "       [-0.54999997,  0.28420927,  0.58987501],\n",
       "       [-0.94999995,  0.2484827 ,  0.8474552 ],\n",
       "       [-0.84999995,  0.25741434,  0.78306015],\n",
       "       [-0.64999997,  0.27527763,  0.65427006],\n",
       "       [-0.05      ,  0.02886751,  0.05576775],\n",
       "       [-0.54999997, -0.01579071,  0.37774298],\n",
       "       [-0.09999999,  0.02440169,  0.08796527],\n",
       "       [-0.49999997, -0.01132489,  0.34554546],\n",
       "       [-0.39999998, -0.00239324,  0.28115041],\n",
       "       [-0.19999999,  0.01547004,  0.15236032],\n",
       "       [-0.44999998,  0.25980759,  0.50190974],\n",
       "       [-0.94999995,  0.21514937,  0.82388497],\n",
       "       [-0.49999997,  0.25534176,  0.53410726],\n",
       "       [-0.89999995,  0.21961519,  0.79168745],\n",
       "       [-0.79999996,  0.22854683,  0.7272924 ],\n",
       "       [-0.59999997,  0.24641012,  0.59850231],\n",
       "       [-0.34999998,  0.20207257,  0.39037424],\n",
       "       [-0.84999995,  0.15741435,  0.71234948],\n",
       "       [-0.39999998,  0.19760675,  0.42257176],\n",
       "       [-0.79999996,  0.16188017,  0.68015195],\n",
       "       [-0.69999996,  0.17081181,  0.6157569 ],\n",
       "       [-0.49999997,  0.1886751 ,  0.48696681],\n",
       "       [-0.14999999,  0.08660253,  0.16730325],\n",
       "       [-0.64999996,  0.04194431,  0.48927848],\n",
       "       [-0.19999999,  0.08213671,  0.19950077],\n",
       "       [-0.59999997,  0.04641013,  0.45708096],\n",
       "       [-0.49999997,  0.05534178,  0.39268591],\n",
       "       [-0.29999998,  0.07320506,  0.26389582],\n",
       "       [ 0.        ,  0.57735022,  0.40824826],\n",
       "       [-0.49999997,  0.532692  ,  0.7302235 ],\n",
       "       [-0.05      ,  0.5728844 ,  0.44044579],\n",
       "       [-0.44999998,  0.53715782,  0.69802597],\n",
       "       [-0.34999998,  0.54608947,  0.63363093],\n",
       "       [-0.14999999,  0.56395276,  0.50484083],\n",
       "       [-0.49999997,  0.86602532,  0.96592575],\n",
       "       [-0.99999995,  0.8213671 ,  1.28790098],\n",
       "       [-0.54999997,  0.8615595 ,  0.99812327],\n",
       "       [-0.94999995,  0.82583292,  1.25570346],\n",
       "       [-0.84999995,  0.83476456,  1.19130841],\n",
       "       [-0.64999997,  0.85262785,  1.06251832],\n",
       "       [-0.05      ,  0.60621773,  0.46401601],\n",
       "       [-0.54999997,  0.56155951,  0.78599125],\n",
       "       [-0.09999999,  0.60175191,  0.49621353],\n",
       "       [-0.49999997,  0.56602533,  0.75379372],\n",
       "       [-0.39999998,  0.57495698,  0.68939868],\n",
       "       [-0.19999999,  0.59282027,  0.56060858],\n",
       "       [-0.44999998,  0.83715781,  0.910158  ],\n",
       "       [-0.94999995,  0.79249959,  1.23213323],\n",
       "       [-0.49999997,  0.83269199,  0.94235552],\n",
       "       [-0.89999995,  0.79696541,  1.19993571],\n",
       "       [-0.79999996,  0.80589705,  1.13554066],\n",
       "       [-0.59999997,  0.82376034,  1.00675057],\n",
       "       [-0.34999998,  0.77942279,  0.7986225 ],\n",
       "       [-0.84999995,  0.73476457,  1.12059774],\n",
       "       [-0.39999998,  0.77495697,  0.83082003],\n",
       "       [-0.79999996,  0.73923039,  1.08840021],\n",
       "       [-0.69999996,  0.74816204,  1.02400517],\n",
       "       [-0.49999997,  0.76602532,  0.89521507],\n",
       "       [-0.14999999,  0.66395275,  0.57555151],\n",
       "       [-0.64999996,  0.61929453,  0.89752674],\n",
       "       [-0.19999999,  0.65948693,  0.60774903],\n",
       "       [-0.59999997,  0.62376035,  0.86532922],\n",
       "       [-0.49999997,  0.632692  ,  0.80093417],\n",
       "       [-0.29999998,  0.65055528,  0.67214408],\n",
       "       [ 0.        ,  0.05773502,  0.04082483],\n",
       "       [-0.49999997,  0.0130768 ,  0.36280006],\n",
       "       [-0.05      ,  0.0532692 ,  0.07302235],\n",
       "       [-0.44999998,  0.01754262,  0.33060254],\n",
       "       [-0.34999998,  0.02647427,  0.26620749],\n",
       "       [-0.14999999,  0.04433756,  0.1374174 ],\n",
       "       [-0.49999997,  0.34641012,  0.59850231],\n",
       "       [-0.99999995,  0.3017519 ,  0.92047755],\n",
       "       [-0.54999997,  0.3419443 ,  0.63069984],\n",
       "       [-0.94999995,  0.30621772,  0.88828002],\n",
       "       [-0.84999995,  0.31514936,  0.82388498],\n",
       "       [-0.64999997,  0.33301265,  0.69509488],\n",
       "       [-0.05      ,  0.08660253,  0.09659257],\n",
       "       [-0.54999997,  0.04194431,  0.41856781],\n",
       "       [-0.09999999,  0.08213671,  0.1287901 ],\n",
       "       [-0.49999997,  0.04641013,  0.38637029],\n",
       "       [-0.39999998,  0.05534178,  0.32197524],\n",
       "       [-0.19999999,  0.07320507,  0.19318515],\n",
       "       [-0.44999998,  0.31754261,  0.54273456],\n",
       "       [-0.94999995,  0.27288439,  0.8647098 ],\n",
       "       [-0.49999997,  0.31307679,  0.57493209],\n",
       "       [-0.89999995,  0.27735021,  0.83251228],\n",
       "       [-0.79999996,  0.28628185,  0.76811723],\n",
       "       [-0.59999997,  0.30414514,  0.63932713],\n",
       "       [-0.34999998,  0.25980759,  0.43119907],\n",
       "       [-0.84999995,  0.21514937,  0.7531743 ],\n",
       "       [-0.39999998,  0.25534177,  0.46339659],\n",
       "       [-0.79999996,  0.21961519,  0.72097678],\n",
       "       [-0.69999996,  0.22854684,  0.65658173],\n",
       "       [-0.49999997,  0.24641012,  0.52779164],\n",
       "       [-0.14999999,  0.14433755,  0.20812807],\n",
       "       [-0.64999996,  0.09967933,  0.53010331],\n",
       "       [-0.19999999,  0.13987173,  0.2403256 ],\n",
       "       [-0.59999997,  0.10414515,  0.49790578],\n",
       "       [-0.49999997,  0.1130768 ,  0.43351074],\n",
       "       [-0.29999998,  0.13094009,  0.30472064],\n",
       "       [ 0.        ,  0.5196152 ,  0.36742344],\n",
       "       [-0.49999997,  0.47495698,  0.68939867],\n",
       "       [-0.05      ,  0.51514938,  0.39962096],\n",
       "       [-0.44999998,  0.4794228 ,  0.65720115],\n",
       "       [-0.34999998,  0.48835445,  0.5928061 ],\n",
       "       [-0.14999999,  0.50621773,  0.46401601],\n",
       "       [-0.49999997,  0.8082903 ,  0.92510092],\n",
       "       [-0.99999995,  0.76363208,  1.24707616],\n",
       "       [-0.54999997,  0.80382447,  0.95729845],\n",
       "       [-0.94999995,  0.7680979 ,  1.21487863],\n",
       "       [-0.84999995,  0.77702954,  1.15048359],\n",
       "       [-0.64999997,  0.79489283,  1.02169349],\n",
       "       [-0.05      ,  0.54848271,  0.42319118],\n",
       "       [-0.54999997,  0.50382449,  0.74516642],\n",
       "       [-0.09999999,  0.54401689,  0.45538871],\n",
       "       [-0.49999997,  0.50829031,  0.7129689 ],\n",
       "       [-0.39999998,  0.51722196,  0.64857385],\n",
       "       [-0.19999999,  0.53508524,  0.51978376],\n",
       "       [-0.44999998,  0.77942279,  0.86933317],\n",
       "       [-0.94999995,  0.73476457,  1.19130841],\n",
       "       [-0.49999997,  0.77495696,  0.9015307 ],\n",
       "       [-0.89999995,  0.73923039,  1.15911089],\n",
       "       [-0.79999996,  0.74816203,  1.09471584],\n",
       "       [-0.59999997,  0.76602532,  0.96592574],\n",
       "       [-0.34999998,  0.72168777,  0.75779768],\n",
       "       [-0.84999995,  0.67702955,  1.07977291],\n",
       "       [-0.39999998,  0.71722194,  0.7899952 ],\n",
       "       [-0.79999996,  0.68149537,  1.04757539],\n",
       "       [-0.69999996,  0.69042701,  0.98318034],\n",
       "       [-0.49999997,  0.7082903 ,  0.85439025],\n",
       "       [-0.14999999,  0.60621773,  0.53472668],\n",
       "       [-0.64999996,  0.56155951,  0.85670192],\n",
       "       [-0.19999999,  0.60175191,  0.56692421],\n",
       "       [-0.59999997,  0.56602533,  0.82450439],\n",
       "       [-0.49999997,  0.57495697,  0.76010935],\n",
       "       [-0.29999998,  0.59282026,  0.63131925],\n",
       "       [ 0.        ,  0.40414516,  0.28577378],\n",
       "       [-0.49999997,  0.35948694,  0.60774902],\n",
       "       [-0.05      ,  0.39967933,  0.31797131],\n",
       "       [-0.44999998,  0.36395276,  0.5755515 ],\n",
       "       [-0.34999998,  0.3728844 ,  0.51115645],\n",
       "       [-0.14999999,  0.39074769,  0.38236635],\n",
       "       [-0.49999997,  0.69282025,  0.84345127],\n",
       "       [-0.99999995,  0.64816203,  1.1654265 ],\n",
       "       [-0.54999997,  0.68835443,  0.87564879],\n",
       "       [-0.94999995,  0.65262785,  1.13322898],\n",
       "       [-0.84999995,  0.6615595 ,  1.06883393],\n",
       "       [-0.64999997,  0.67942279,  0.94004384],\n",
       "       [-0.05      ,  0.43301266,  0.34154153],\n",
       "       [-0.54999997,  0.38835445,  0.66351677],\n",
       "       [-0.09999999,  0.42854684,  0.37373906],\n",
       "       [-0.49999997,  0.39282027,  0.63131924],\n",
       "       [-0.39999998,  0.40175191,  0.5669242 ],\n",
       "       [-0.19999999,  0.4196152 ,  0.4381341 ],\n",
       "       [-0.44999998,  0.66395274,  0.78768352],\n",
       "       [-0.94999995,  0.61929452,  1.10965876],\n",
       "       [-0.49999997,  0.65948692,  0.81988104],\n",
       "       [-0.89999995,  0.62376034,  1.07746123],\n",
       "       [-0.79999996,  0.63269199,  1.01306619],\n",
       "       [-0.59999997,  0.65055528,  0.88427609],\n",
       "       [-0.34999998,  0.60621772,  0.67614802],\n",
       "       [-0.84999995,  0.5615595 ,  0.99812326],\n",
       "       [-0.39999998,  0.6017519 ,  0.70834555],\n",
       "       [-0.79999996,  0.56602532,  0.96592574],\n",
       "       [-0.69999996,  0.57495697,  0.90153069],\n",
       "       [-0.49999997,  0.59282026,  0.77274059],\n",
       "       [-0.14999999,  0.49074768,  0.45307703],\n",
       "       [-0.64999996,  0.44608946,  0.77505226],\n",
       "       [-0.19999999,  0.48628186,  0.48527455],\n",
       "       [-0.59999997,  0.45055529,  0.74285474],\n",
       "       [-0.49999997,  0.45948693,  0.67845969],\n",
       "       [-0.29999998,  0.47735022,  0.5496696 ],\n",
       "       [ 0.        ,  0.17320507,  0.12247448],\n",
       "       [-0.49999997,  0.12854685,  0.44444971],\n",
       "       [-0.05      ,  0.16873924,  0.154672  ],\n",
       "       [-0.44999998,  0.13301267,  0.41225219],\n",
       "       [-0.34999998,  0.14194431,  0.34785714],\n",
       "       [-0.14999999,  0.1598076 ,  0.21906705],\n",
       "       [-0.49999997,  0.46188016,  0.68015196],\n",
       "       [-0.99999995,  0.41722194,  1.0021272 ],\n",
       "       [-0.54999997,  0.45741434,  0.71234949],\n",
       "       [-0.94999995,  0.42168776,  0.96992968],\n",
       "       [-0.84999995,  0.43061941,  0.90553463],\n",
       "       [-0.64999997,  0.4484827 ,  0.77674454],\n",
       "       [-0.05      ,  0.20207258,  0.17824223],\n",
       "       [-0.54999997,  0.15741436,  0.50021746],\n",
       "       [-0.09999999,  0.19760675,  0.21043975],\n",
       "       [-0.49999997,  0.16188018,  0.46801994],\n",
       "       [-0.39999998,  0.17081182,  0.40362489],\n",
       "       [-0.19999999,  0.18867511,  0.2748348 ],\n",
       "       [-0.44999998,  0.43301265,  0.62438422],\n",
       "       [-0.94999995,  0.38835443,  0.94635945],\n",
       "       [-0.49999997,  0.42854683,  0.65658174],\n",
       "       [-0.89999995,  0.39282026,  0.91416193],\n",
       "       [-0.79999996,  0.4017519 ,  0.84976688],\n",
       "       [-0.59999997,  0.41961519,  0.72097679],\n",
       "       [-0.34999998,  0.37527763,  0.51284872],\n",
       "       [-0.84999995,  0.33061941,  0.83482395],\n",
       "       [-0.39999998,  0.37081181,  0.54504624],\n",
       "       [-0.79999996,  0.33508524,  0.80262643],\n",
       "       [-0.69999996,  0.34401688,  0.73823138],\n",
       "       [-0.49999997,  0.36188017,  0.60944129],\n",
       "       [-0.14999999,  0.2598076 ,  0.28977772],\n",
       "       [-0.64999996,  0.21514938,  0.61175296],\n",
       "       [-0.19999999,  0.25534177,  0.32197525],\n",
       "       [-0.59999997,  0.2196152 ,  0.57955544],\n",
       "       [-0.49999997,  0.22854684,  0.51516039],\n",
       "       [-0.29999998,  0.24641013,  0.3863703 ]])"
      ]
     },
     "execution_count": 120,
     "metadata": {},
     "output_type": "execute_result"
    }
   ],
   "source": [
    "fractional-frac"
   ]
  },
  {
   "cell_type": "code",
   "execution_count": null,
   "metadata": {},
   "outputs": [],
   "source": [
    "icenter = 2"
   ]
  },
  {
   "cell_type": "code",
   "execution_count": null,
   "metadata": {},
   "outputs": [],
   "source": [
    "dd1 = np.array(distances[icenter])\n",
    "ee = np.sort(dd1[dd1 <= cutoff])\n",
    "ee"
   ]
  },
  {
   "cell_type": "code",
   "execution_count": null,
   "metadata": {},
   "outputs": [],
   "source": [
    "dd1 = np.array(distances[icenter])\n",
    "dd = np.sort(dd1[dd1 <= cutoff])\n",
    "dd"
   ]
  },
  {
   "cell_type": "code",
   "execution_count": null,
   "metadata": {},
   "outputs": [],
   "source": [
    "ee - dd"
   ]
  },
  {
   "cell_type": "markdown",
   "metadata": {},
   "source": [
    "# The whole neighbourlist design streamlined"
   ]
  },
  {
   "cell_type": "code",
   "execution_count": 35,
   "metadata": {
    "code_folding": [
     1
    ]
   },
   "outputs": [],
   "source": [
    "# grow the cell shell by shell in an all directions. stops when no replicas of a shell add atom to the bounding box\n",
    "def isotropic_growth(h,bb):\n",
    "    images = []\n",
    "    bounds_p = np.ones(3,int)\n",
    "    bounds_m = -np.ones(3,int)\n",
    "    carry_on = True\n",
    "    norm_bound = np.array([1,2])\n",
    "    while carry_on:\n",
    "        updates = False\n",
    "        tests = []\n",
    "        for ix in range(bounds_m[0],bounds_p[0]+1):\n",
    "            for iy in range(bounds_m[1],bounds_p[1]+1):\n",
    "                for iz in range(bounds_m[2],bounds_p[2]+1):\n",
    "                    ic = np.array([ix,iy,iz])\n",
    "                    ic_n = np.linalg.norm(ic)\n",
    "                    if ic_n < norm_bound[0] or ic_n >= norm_bound[1]:\n",
    "                        continue\n",
    "                    tests.append(ic_n)\n",
    "                    offset = np.dot(ic,h)\n",
    "                    ro = r + offset\n",
    "                    for ri in ro:\n",
    "                        if np.all(ri>=bb[0]) and np.all(ri<=bb[1]):\n",
    "                            images.append(ri)\n",
    "                            updates = True\n",
    "        # print(bounds_p,bounds_m)\n",
    "        if updates is False:\n",
    "            carry_on = False\n",
    "        bounds_p += 1\n",
    "        bounds_m -= 1\n",
    "        norm_bound += 1\n",
    "\n",
    "    im = np.asarray(images)     \n",
    "    nreplicas = np.prod(bounds_p - bounds_m)\n",
    "    return im, nreplicas\n",
    "\n",
    "# grow the cell recursivelly: \n",
    "# add neighboring replicas to pcells\n",
    "# go through the replicas in pcells, if atoms are added to the bounding box then add the neighgoring cells to pcells \n",
    "# making sure pcells has unique entries\n",
    "def grow_and_check(r,h,bb,pbc):\n",
    "    dim = len(pbc)\n",
    "    images = []\n",
    "    pcells = [tuple(np.zeros(dim))]\n",
    "    aa = []\n",
    "    for ii in range(dim):\n",
    "        if pbc[ii] == True:\n",
    "            aa.append([-1,0,1])\n",
    "        else:\n",
    "            aa.append([0])\n",
    "    \n",
    "    def func_recursive(ic):\n",
    "        for d in itertools.product(*aa):\n",
    "            ncd = tuple(np.asarray(ic,int)+np.asarray(d))\n",
    "            if ncd in pcells:\n",
    "                continue\n",
    "            offset = np.dot(np.asarray(ncd),h)\n",
    "            ro = r + offset\n",
    "            found_any = False\n",
    "            for ri in ro:\n",
    "                if np.all(ri>=bb[0]) and np.all(ri<=bb[1]):\n",
    "                    found_any = True\n",
    "                    images.append(ri)  \n",
    "            pcells.append(ncd)\n",
    "            if found_any is True:\n",
    "                func_recursive(ncd)\n",
    "    func_recursive(pcells[0])\n",
    "    return np.asarray(images), len(pcells)"
   ]
  },
  {
   "cell_type": "code",
   "execution_count": 26,
   "metadata": {
    "collapsed": true
   },
   "outputs": [
    {
     "data": {
      "text/plain": [
       "[[0],\n",
       " [0],\n",
       " [-1, 0, 1],\n",
       " [-1, 0, 1],\n",
       " [0],\n",
       " [-1, 0, 1],\n",
       " [-1, 0, 1],\n",
       " [0],\n",
       " [-1, 0, 1]]"
      ]
     },
     "execution_count": 26,
     "metadata": {},
     "output_type": "execute_result"
    }
   ],
   "source": [
    "aa"
   ]
  },
  {
   "cell_type": "code",
   "execution_count": 27,
   "metadata": {
    "collapsed": true
   },
   "outputs": [
    {
     "data": {
      "text/plain": [
       "[(-1, 0, -1),\n",
       " (-1, 0, 0),\n",
       " (-1, 0, 1),\n",
       " (0, 0, -1),\n",
       " (0, 0, 0),\n",
       " (0, 0, 1),\n",
       " (1, 0, -1),\n",
       " (1, 0, 0),\n",
       " (1, 0, 1)]"
      ]
     },
     "execution_count": 27,
     "metadata": {},
     "output_type": "execute_result"
    }
   ],
   "source": [
    "pbc = [True,False,True]\n",
    "aa = []\n",
    "for ii in range(len(pbc)):\n",
    "    if pbc[ii] == True:\n",
    "        aa.append([-1,0,1])\n",
    "    else:\n",
    "        aa.append([0])\n",
    "list(itertools.product(*aa))"
   ]
  },
  {
   "cell_type": "code",
   "execution_count": 36,
   "metadata": {
    "code_folding": []
   },
   "outputs": [],
   "source": [
    "# representation of the binning boxes within the bounding box\n",
    "class Boxes(object):\n",
    "    def __init__(self,ncells,pbc):\n",
    "        self.pbc = pbc\n",
    "        self.ncells = ncells\n",
    "        self.boxes = []\n",
    "        for ii in range(np.prod(ncells)):\n",
    "            self.boxes.append([])\n",
    "    def get_lin_idx(self, pos_3d):\n",
    "        lin_idx = 0\n",
    "        fac = 1\n",
    "        for ii,p in enumerate(pos_3d):\n",
    "            lin_idx += fac*p\n",
    "            fac *= self.ncells[ii]\n",
    "        return lin_idx\n",
    "    def get_mult_idx(self, lin_idx):\n",
    "        pos_3d = np.array([0,0,0],int)\n",
    "        for ii in range(3):\n",
    "            pos_3d[ii] = lin_idx % self.ncells[ii]\n",
    "            lin_idx /= self.ncells[ii]\n",
    "        return pos_3d\n",
    "    def __getitem__(self,pos_3d):\n",
    "        return self.boxes[self.get_lin_idx(pos_3d)]\n",
    "    def __iter__(self):\n",
    "        for box in self.boxes:\n",
    "            yield box\n",
    "    def get_neighbour_boxes(self,lin_idx):\n",
    "        pos_3d = self.get_mult_idx(lin_idx)\n",
    "        for ix,iy,iz in product([-1, 0, 1],repeat=dim):\n",
    "            # avoid centeral box \n",
    "            if ix == 0 and iy == 0 and iz == 0: \n",
    "                continue\n",
    "            lin_idx = self.get_lin_idx(pos_3d+np.array([ix,iy,iz]))\n",
    "            if len(self.boxes[lin_idx]) > 0:\n",
    "                yield self.boxes[lin_idx]\n",
    "    def __repr__(self):\n",
    "        return str(self.boxes)\n",
    "    def __str__(self):\n",
    "        return self.__repr__()\n",
    "    def get_size(self,pos_3d):\n",
    "        return len(self.boxes[self.get_lin_idx(pos_3d)])"
   ]
  },
  {
   "cell_type": "code",
   "execution_count": 37,
   "metadata": {},
   "outputs": [],
   "source": [
    "def get_neighborlist(frame, cutoff):\n",
    "    nat = len(frame)\n",
    "    h = frame.get_cell()\n",
    "    r = frame.get_positions()\n",
    "    pbc = frame.get_pbc()\n",
    "    # bounding box, including a cutoff-sized skin. this is the range we need to cover \n",
    "    # with periodic copies of the cell to find neighbors for all atoms\n",
    "    bb = np.asarray([ r.min(axis=0), r.max(axis=0) ])\n",
    "    bb[0] -= cutoff\n",
    "    bb[1] += cutoff\n",
    "    # build the images iterativelly by growing the replication of the cell from (0,0,0)\n",
    "    im, nnn = grow_and_check(r, h, bb, pbc)\n",
    "\n",
    "    # since we computed all the necessary images, we can make linked cells that are exactly rc\n",
    "    ncells = np.asarray(np.ceil((bb[1]-bb[0])/cutoff),int)\n",
    "    # to which cell do each point belong?\n",
    "    icr = np.asarray(np.floor((r-bb[0])/cutoff),int)\n",
    "    icim = np.asarray(np.floor((im-bb[0])/cutoff),int)\n",
    "\n",
    "    # bin the centers in the boxes\n",
    "    ci = Boxes(ncells,pbc)\n",
    "    for i, ic in enumerate(icr):    \n",
    "        ci[ic].append(i)\n",
    "    # bin the replicas\n",
    "    ciim = Boxes(ncells,pbc)\n",
    "    for i, ic in enumerate(icim):    \n",
    "        ciim[ic].append(i+nat)    \n",
    "\n",
    "    # array with all positions\n",
    "    all_pos = np.vstack([r,im])\n",
    "\n",
    "    # build the NL\n",
    "    NL = [[] for ii in range(nat)]\n",
    "    for ibox_lin, cbox in enumerate(ci):\n",
    "        cbox_np = np.array(cbox)\n",
    "        for center_idx in cbox:\n",
    "            # add centers that are in the same box\n",
    "            NL[center_idx].extend(list(cbox_np[cbox_np != center_idx]))\n",
    "            # add centers from the neighboring boxes\n",
    "            for neigh_box in ci.get_neighbour_boxes(ibox_lin):\n",
    "                NL[center_idx].extend(neigh_box)\n",
    "            # add images from the same boxe\n",
    "            NL[center_idx].extend(ciim.boxes[ibox_lin])\n",
    "            # add images from the neighboring boxes\n",
    "            for neigh_box in ciim.get_neighbour_boxes(ibox_lin):\n",
    "                NL[center_idx].extend(neigh_box)\n",
    "\n",
    "    distances = [[] for ii in range(nat)]\n",
    "    for icenter in range(nat):\n",
    "        for ineigh in NL[icenter]:\n",
    "            dist = np.linalg.norm(all_pos[icenter] - all_pos[ineigh])\n",
    "            distances[icenter].append(dist)\n",
    "\n",
    "    return NL, distances, all_pos"
   ]
  },
  {
   "cell_type": "code",
   "execution_count": 38,
   "metadata": {},
   "outputs": [],
   "source": [
    "# Hexagonal v1 = a(1,0,0),  v2 = a(-1/2,sqrt(3)/2,0),  v3 = a(0,0,c/a)\n",
    "a = 3\n",
    "c = 2\n",
    "nat = 10    # number of atoms\n",
    "rrange = 5.0 # range of x positions\n",
    "dim = 3      # dimensionality\n",
    "cutoff = 3.0 # cutoff for interactions\n",
    "# h = a*np.array([[1,0,0],[-0.5,np.sqrt(3)/2,0],[0,0,c/a]])\n",
    "h = a*np.array([[1,0,0],[-2,np.sqrt(3)/2,0],[0,0,c/a]])\n",
    "r = np.random.uniform(low=-rrange, high=2*rrange, size=(nat, dim))\n",
    "pbc = [True,False,True]\n",
    "frame = Atoms(positions=r,cell=h,numbers=nat*[1,],pbc=pbc)\n",
    "frame_wraped = deepcopy(frame)\n",
    "frame_wraped.wrap()"
   ]
  },
  {
   "cell_type": "code",
   "execution_count": null,
   "metadata": {},
   "outputs": [],
   "source": []
  },
  {
   "cell_type": "code",
   "execution_count": 32,
   "metadata": {},
   "outputs": [],
   "source": [
    "view([frame,frame_wraped])"
   ]
  },
  {
   "cell_type": "code",
   "execution_count": 39,
   "metadata": {},
   "outputs": [],
   "source": [
    "NL_1, distances_1, all_pos_1 = get_neighborlist(frame, cutoff)\n",
    "NL_2, distances_2, all_pos_2 = get_neighborlist(frame_wraped, cutoff)"
   ]
  },
  {
   "cell_type": "code",
   "execution_count": 40,
   "metadata": {},
   "outputs": [
    {
     "name": "stdout",
     "output_type": "stream",
     "text": [
      "0 True\n",
      "1 True\n",
      "2 True\n",
      "3 True\n",
      "4 True\n",
      "5 True\n",
      "6 True\n",
      "7 True\n",
      "8 True\n",
      "9 True\n"
     ]
    }
   ],
   "source": [
    "epsilon = 1e-14\n",
    "# check if the neighbour distances to the centers in both NL are the same in a strict cutoff sense\n",
    "for icenter in range(nat):\n",
    "    # icenter = 3\n",
    "    dd1 = np.array(distances_1[icenter])\n",
    "    dd2 = np.array(distances_2[icenter])\n",
    "    ee = np.sort(dd1[dd1 <= cutoff+epsilon])\n",
    "    dd = np.sort(dd2[dd2 <= cutoff+epsilon])\n",
    "    print(icenter, np.allclose(ee,dd))"
   ]
  },
  {
   "cell_type": "code",
   "execution_count": null,
   "metadata": {},
   "outputs": [],
   "source": []
  }
 ],
 "metadata": {
  "kernelspec": {
   "display_name": "Python 3",
   "language": "python",
   "name": "python3"
  },
  "language_info": {
   "codemirror_mode": {
    "name": "ipython",
    "version": 3
   },
   "file_extension": ".py",
   "mimetype": "text/x-python",
   "name": "python",
   "nbconvert_exporter": "python",
   "pygments_lexer": "ipython3",
   "version": "3.6.8"
  },
  "toc": {
   "base_numbering": 1,
   "nav_menu": {},
   "number_sections": true,
   "sideBar": true,
   "skip_h1_title": false,
   "title_cell": "Table of Contents",
   "title_sidebar": "Contents",
   "toc_cell": false,
   "toc_position": {},
   "toc_section_display": true,
   "toc_window_display": false
  }
 },
 "nbformat": 4,
 "nbformat_minor": 2
}
