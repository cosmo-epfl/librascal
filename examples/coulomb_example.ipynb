{
 "cells": [
  {
   "cell_type": "markdown",
   "metadata": {},
   "source": [
    "# Compute the atom centered Coulomb Matrix representation"
   ]
  },
  {
   "cell_type": "markdown",
   "metadata": {},
   "source": [
    "To install QML library and compare rascal results with it\n",
    "+ pip install qml ase"
   ]
  },
  {
   "cell_type": "markdown",
   "metadata": {},
   "source": [
    "To install rascal:\n",
    "+ mkdir ../build \n",
    "+ cd build\n",
    "+ cmake -DCMAKE_BUILD_TYPE=Release ..\n",
    "+ make install -j 4"
   ]
  },
  {
   "cell_type": "code",
   "execution_count": null,
   "metadata": {},
   "outputs": [],
   "source": [
    "%env OMP_NUM_THREADS=1"
   ]
  },
  {
   "cell_type": "code",
   "execution_count": null,
   "metadata": {},
   "outputs": [],
   "source": [
    "%matplotlib inline\n",
    "from matplotlib import pyplot as plt"
   ]
  },
  {
   "cell_type": "code",
   "execution_count": null,
   "metadata": {},
   "outputs": [],
   "source": [
    "import qml\n",
    "from ase.io import read\n",
    "from ase.visualize import view\n",
    "import numpy as np\n",
    "import sys, os\n",
    "from ase.build import make_supercell"
   ]
  },
  {
   "cell_type": "code",
   "execution_count": null,
   "metadata": {},
   "outputs": [],
   "source": [
    "from rascal.representation import SortedCoulombMatrix"
   ]
  },
  {
   "cell_type": "code",
   "execution_count": null,
   "metadata": {},
   "outputs": [],
   "source": [
    "# load a small subset of structures from QM9\n",
    "frames = read('../tests/reference_data/dft-smiles_500.xyz',':')\n",
    "cutoff = 3.\n",
    "rep = SortedCoulombMatrix(cutoff,sort='rownorm')"
   ]
  },
  {
   "cell_type": "code",
   "execution_count": null,
   "metadata": {},
   "outputs": [],
   "source": [
    "new_frames = []\n",
    "aa = []\n",
    "for frame in frames:\n",
    "    new_frames.append(make_supercell(frame,np.eye(3)*1))\n",
    "print(np.max(list(map(len,new_frames))))"
   ]
  },
  {
   "cell_type": "code",
   "execution_count": null,
   "metadata": {},
   "outputs": [],
   "source": [
    "# have a look at them\n",
    "view(frames)"
   ]
  },
  {
   "cell_type": "code",
   "execution_count": null,
   "metadata": {},
   "outputs": [],
   "source": [
    "# Compute the sorted coulomb matrices for the list of structures\n",
    "%timeit -n 3 -r 3 features = rep.transform(new_frames)"
   ]
  },
  {
   "cell_type": "code",
   "execution_count": null,
   "metadata": {},
   "outputs": [],
   "source": [
    "# extract the feature matrix to compare with \n",
    "features = rep.transform(new_frames)\n",
    "test = features.get_feature_matrix().T"
   ]
  },
  {
   "cell_type": "code",
   "execution_count": null,
   "metadata": {},
   "outputs": [],
   "source": [
    "features.shape"
   ]
  },
  {
   "cell_type": "code",
   "execution_count": null,
   "metadata": {
    "code_folding": [
     1,
     12
    ]
   },
   "outputs": [],
   "source": [
    "# To get the coulomb matrices from QML\n",
    "def get_coulomb_ref(frame,size,cutoff,flavour):\n",
    "    from qml.representations import generate_atomic_coulomb_matrix\n",
    "    \n",
    "    nuclear_charges = frame.get_atomic_numbers()\n",
    "    coordinates = frame.get_positions()\n",
    "    \n",
    "    \n",
    "    cm = generate_atomic_coulomb_matrix(nuclear_charges, coordinates, size = size, sorting = flavour,\n",
    "    central_cutoff = cutoff, central_decay = -1, interaction_cutoff = 1e6, interaction_decay = -1,indices = None)\n",
    "    \n",
    "    return cm\n",
    "def get_coulomb_refs(frames,size,cutoff,flavour='distance'):  \n",
    "    cms = []\n",
    "    for frame in frames:\n",
    "        cms.append(get_coulomb_ref(frame,size,cutoff,flavour))\n",
    "    return np.vstack(cms)"
   ]
  },
  {
   "cell_type": "code",
   "execution_count": null,
   "metadata": {},
   "outputs": [],
   "source": [
    "# Compare with reference\n",
    "%timeit -n 3 -r 3 ref = get_coulomb_refs(new_frames,rep.size,cutoff,flavour='row-norm')\n",
    "ref = get_coulomb_refs(new_frames,rep.size,cutoff,flavour='row-norm')\n",
    "np.allclose(test,ref)"
   ]
  },
  {
   "cell_type": "code",
   "execution_count": null,
   "metadata": {},
   "outputs": [],
   "source": [
    "from rascal.utils import fps"
   ]
  },
  {
   "cell_type": "code",
   "execution_count": null,
   "metadata": {},
   "outputs": [],
   "source": [
    "sparse_indices,sparse_minmax_d2 = fps(test,Nselect=500,starting_index=None,flavour='simple')"
   ]
  },
  {
   "cell_type": "code",
   "execution_count": null,
   "metadata": {},
   "outputs": [],
   "source": [
    "plt.plot(sparse_minmax_d2)"
   ]
  },
  {
   "cell_type": "code",
   "execution_count": null,
   "metadata": {},
   "outputs": [],
   "source": []
  },
  {
   "cell_type": "code",
   "execution_count": null,
   "metadata": {},
   "outputs": [],
   "source": []
  }
 ],
 "metadata": {
  "kernelspec": {
   "display_name": "Python 3.6",
   "language": "python",
   "name": "py3"
  },
  "language_info": {
   "codemirror_mode": {
    "name": "ipython",
    "version": 3
   },
   "file_extension": ".py",
   "mimetype": "text/x-python",
   "name": "python",
   "nbconvert_exporter": "python",
   "pygments_lexer": "ipython3",
   "version": "3.6.6"
  },
  "toc": {
   "base_numbering": 1,
   "nav_menu": {
    "height": "12px",
    "width": "252px"
   },
   "number_sections": true,
   "sideBar": true,
   "skip_h1_title": false,
   "title_cell": "Table of Contents",
   "title_sidebar": "Contents",
   "toc_cell": false,
   "toc_position": {},
   "toc_section_display": "block",
   "toc_window_display": false
  }
 },
 "nbformat": 4,
 "nbformat_minor": 2
}
