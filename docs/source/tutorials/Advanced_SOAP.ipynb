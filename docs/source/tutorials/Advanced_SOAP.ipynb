{
 "cells": [
  {
   "cell_type": "markdown",
   "metadata": {
    "toc": true
   },
   "source": [
    "<h1>Table of Contents<span class=\"tocSkip\"></span></h1>\n",
    "<div class=\"toc\"><ul class=\"toc-item\"><li><span><a href=\"#Advanced-SOAP-Representations\" data-toc-modified-id=\"Advanced-SOAP-Representations-1\"><span class=\"toc-item-num\">1&nbsp;&nbsp;</span>Advanced SOAP Representations</a></span><ul class=\"toc-item\"><li><span><a href=\"#$\\lambda$-SOAP\" data-toc-modified-id=\"$\\lambda$-SOAP-1.1\"><span class=\"toc-item-num\">1.1&nbsp;&nbsp;</span>$\\lambda$-SOAP</a></span></li><li><span><a href=\"#Bispectrum\" data-toc-modified-id=\"Bispectrum-1.2\"><span class=\"toc-item-num\">1.2&nbsp;&nbsp;</span>Bispectrum</a></span></li><li><span><a href=\"#DVR\" data-toc-modified-id=\"DVR-1.3\"><span class=\"toc-item-num\">1.3&nbsp;&nbsp;</span>DVR</a></span></li></ul></li></ul></div>"
   ]
  },
  {
   "cell_type": "markdown",
   "metadata": {},
   "source": [
    "# Advanced SOAP Representations\n",
    "\n",
    "This notebook is intended showcase some more advanced examples of SOAP representations.\n",
    "For more information on the variable conventions, derivation, and utility of atomic descriptors, please refer to (among others): \n",
    "<ul>\n",
    "  <li> <a href=\"https://journals.aps.org/prb/abstract/10.1103/PhysRevB.87.184115\">On representing chemical environments (Bartók 2013)</a></li>\n",
    "  <li><a href=\"https://onlinelibrary.wiley.com/doi/full/10.1002/qua.24927\">Gaussian approximation potentials: A brief tutorial introduction (Bartók 2015)</li>\n",
    "  <li><a href=\"https://pubs.rsc.org/en/content/articlepdf/2016/cp/c6cp00415f\">Comparing molecules and solids across structural and alchemical space (De 2016)</li>\n",
    "    <li><a href=\"https://link.springer.com/content/pdf/10.1007%2F978-3-319-42913-7_68-1.pdf\">Machine Learning of Atomic-Scale Properties Based on Physical Principles (Ceriotti 2018)</li>\n",
    "</ul>\n",
    "\n",
    "Beyond libRascal, the packages used in this tutorial are:  [json](https://docs.python.org/2/library/json.html), [numpy](https://numpy.org/), [ipywidgets](https://ipywidgets.readthedocs.io/en/latest/), [matplotlib](https://matplotlib.org/), and [ase](https://wiki.fysik.dtu.dk/ase/index.html)."
   ]
  },
  {
   "cell_type": "code",
   "execution_count": null,
   "metadata": {},
   "outputs": [],
   "source": [
    "%matplotlib inline\n",
    "\n",
    "# may omit in final version\n",
    "%reload_ext autoreload\n",
    "%autoreload 2 \n",
    "\n",
    "import os\n",
    "import time\n",
    "import sys\n",
    "\n",
    "import numpy as np\n",
    "import ase\n",
    "from ase.io import read\n",
    "from matplotlib import pyplot as plt\n",
    "import json\n",
    "\n",
    "wd=!(pwd)\n",
    "sys.path.append(f'{wd[0]}/utilities')\n",
    "from general_utils import *\n",
    "from rascal.representations import SphericalInvariants as SOAP"
   ]
  },
  {
   "cell_type": "markdown",
   "metadata": {},
   "source": [
    "## $\\lambda$-SOAP"
   ]
  },
  {
   "cell_type": "markdown",
   "metadata": {},
   "source": [
    "## Bispectrum"
   ]
  },
  {
   "cell_type": "markdown",
   "metadata": {},
   "source": [
    "## DVR"
   ]
  },
  {
   "cell_type": "code",
   "execution_count": null,
   "metadata": {},
   "outputs": [],
   "source": []
  }
 ],
 "metadata": {
  "kernelspec": {
   "display_name": "Python 3",
   "language": "python",
   "name": "python3"
  },
  "language_info": {
   "codemirror_mode": {
    "name": "ipython",
    "version": 3
   },
   "file_extension": ".py",
   "mimetype": "text/x-python",
   "name": "python",
   "nbconvert_exporter": "python",
   "pygments_lexer": "ipython3",
   "version": "3.7.3"
  },
  "toc": {
   "base_numbering": 1,
   "nav_menu": {},
   "number_sections": true,
   "sideBar": true,
   "skip_h1_title": false,
   "title_cell": "Table of Contents",
   "title_sidebar": "Contents",
   "toc_cell": true,
   "toc_position": {},
   "toc_section_display": true,
   "toc_window_display": true
  }
 },
 "nbformat": 4,
 "nbformat_minor": 2
}
