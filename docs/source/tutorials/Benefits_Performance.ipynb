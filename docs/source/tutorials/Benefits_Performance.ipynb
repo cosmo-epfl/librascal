{
 "cells": [
  {
   "cell_type": "markdown",
   "metadata": {
    "toc": true
   },
   "source": [
    "<h1>Table of Contents<span class=\"tocSkip\"></span></h1>\n",
    "<div class=\"toc\"><ul class=\"toc-item\"><li><span><a href=\"#What-can-libRascal-do?\" data-toc-modified-id=\"What-can-libRascal-do?-1\"><span class=\"toc-item-num\">1&nbsp;&nbsp;</span>What can libRascal do?</a></span></li></ul></div>"
   ]
  },
  {
   "cell_type": "markdown",
   "metadata": {},
   "source": [
    "# What can libRascal do?\n",
    "\n",
    "This notebook is intended to _purpose of tutorial_.\n",
    "For more information on _nuances of tutorial_, please refer to (among others): \n",
    "- [Title (Surname Year)](url) \n",
    "- [Title (Surname Year)](url)\n",
    "\n",
    "Beyond libRascal, the packages used in this tutorial are:  [pkg](url), [pkg](url), and [pkg](url)."
   ]
  },
  {
   "cell_type": "code",
   "execution_count": null,
   "metadata": {},
   "outputs": [],
   "source": [
    "%matplotlib inline\n",
    "\n",
    "# may omit in final version\n",
    "%reload_ext autoreload\n",
    "%autoreload 2 \n",
    "\n",
    "import os\n",
    "import time\n",
    "import sys\n",
    "\n",
    "import numpy as np\n",
    "import ase\n",
    "from ase.io import read\n",
    "from matplotlib import pyplot as plt\n",
    "import json\n",
    "\n",
    "wd=!(pwd)\n",
    "sys.path.append(f'{wd[0]}/utilities')\n",
    "from general_utils import *\n",
    "from rascal.representations import SphericalInvariants as SOAP"
   ]
  },
  {
   "cell_type": "code",
   "execution_count": null,
   "metadata": {},
   "outputs": [],
   "source": []
  },
  {
   "cell_type": "code",
   "execution_count": null,
   "metadata": {},
   "outputs": [],
   "source": []
  }
 ],
 "metadata": {
  "kernelspec": {
   "display_name": "Python 3",
   "language": "python",
   "name": "python3"
  },
  "language_info": {
   "codemirror_mode": {
    "name": "ipython",
    "version": 3
   },
   "file_extension": ".py",
   "mimetype": "text/x-python",
   "name": "python",
   "nbconvert_exporter": "python",
   "pygments_lexer": "ipython3",
   "version": "3.7.3"
  },
  "toc": {
   "base_numbering": 1,
   "nav_menu": {},
   "number_sections": true,
   "sideBar": true,
   "skip_h1_title": false,
   "title_cell": "Table of Contents",
   "title_sidebar": "Contents",
   "toc_cell": true,
   "toc_position": {},
   "toc_section_display": true,
   "toc_window_display": true
  }
 },
 "nbformat": 4,
 "nbformat_minor": 2
}
