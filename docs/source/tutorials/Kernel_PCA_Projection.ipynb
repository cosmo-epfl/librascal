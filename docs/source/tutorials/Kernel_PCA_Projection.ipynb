{
 "cells": [
  {
   "cell_type": "markdown",
   "metadata": {},
   "source": [
    "# PCA Projection of SOAP Environments\n",
    "\n",
    "This notebook is intended as an introductory how-to on projecting SOAP vectors along their principal components. For more information on the variable conventions, derivation, utility, and calculation of SOAP vectors, please refer to (among others):\n",
    "\n",
    "<ul>\n",
    "  <li> <a href=\"https://journals.aps.org/prb/abstract/10.1103/PhysRevB.87.184115\">On representing chemical environments (Bartók 2013)</a></li>\n",
    "  <li><a href=\"https://onlinelibrary.wiley.com/doi/full/10.1002/qua.24927\">Gaussian approximation potentials: A brief tutorial introduction (Bartók 2015)</li>\n",
    "  <li><a href=\"https://pubs.rsc.org/en/content/articlepdf/2016/cp/c6cp00415f\">Comparing molecules and solids across structural and alchemical space (De 2016)</li>\n",
    "    <li><a href=\"https://link.springer.com/content/pdf/10.1007%2F978-3-319-42913-7_68-1.pdf\">Machine Learning of Atomic-Scale Properties Based on Physical Principles (Ceriotti 2018)</li>\n",
    "</ul>\n",
    "\n",
    "Beyond libRascal, the packages used in this tutorial are:  [json](https://docs.python.org/2/library/json.html), [numpy](https://numpy.org/), [ipywidgets](https://ipywidgets.readthedocs.io/en/latest/), [matplotlib](https://matplotlib.org/), and [ase](https://wiki.fysik.dtu.dk/ase/index.html)."
   ]
  },
  {
   "cell_type": "code",
   "execution_count": 48,
   "metadata": {},
   "outputs": [],
   "source": [
    "%matplotlib inline\n",
    "\n",
    "# may omit in final version\n",
    "%reload_ext autoreload\n",
    "%autoreload 2 \n",
    "\n",
    "import os\n",
    "import time\n",
    "import sys\n",
    "\n",
    "import numpy as np\n",
    "import ase\n",
    "from ase.io import read\n",
    "from matplotlib import pyplot as plt\n",
    "import json\n",
    "from sklearn.decomposition import KernelPCA\n",
    "\n",
    "wd=!(pwd)\n",
    "sys.path.append(f'{wd[0]}/utilities')\n",
    "\n",
    "if('/docs/source/tutorials' in wd[0]):\n",
    "    ref_dir = '../../../reference_data'\n",
    "else:\n",
    "    ref_dir = '../reference_data'\n",
    "    \n",
    "from general_utils import *\n",
    "from rascal.representations import SphericalInvariants as SOAP\n",
    "from rascal.models import Kernel"
   ]
  },
  {
   "cell_type": "markdown",
   "metadata": {},
   "source": [
    "## Training a Kernel PCA on Global Properties\n",
    "As discussed in [Link to Hyperparameter Tutorial](), the hyperparameters of a SOAP descriptor will decide the amount of information contained in the descriptor. Here we'll use a standard Power Spectrum SOAP representation:"
   ]
  },
  {
   "cell_type": "markdown",
   "metadata": {},
   "source": [
    "### Hyperparameters"
   ]
  },
  {
   "cell_type": "code",
   "execution_count": 10,
   "metadata": {},
   "outputs": [],
   "source": [
    "hyperparameters = dict(soap_type = 'PowerSpectrum', \\\n",
    "                       interaction_cutoff = 3.5, \\\n",
    "                       max_radial = 6, \\\n",
    "                       max_angular = 6, \\\n",
    "                       gaussian_sigma_constant = 0.4, \\\n",
    "                       gaussian_sigma_type = 'Constant', \\\n",
    "                       cutoff_smooth_width = 0.5\n",
    "                      )"
   ]
  },
  {
   "cell_type": "markdown",
   "metadata": {},
   "source": [
    "### Load and Read the Input File\n",
    "We'll first look at the [small_molecules-1000.xyz]() file, which contains the per-atom formation energy in eV. Because this is a property of the crystal (opposed to the atoms), we'll want to use the \"Structure\" kernel given by libRascal."
   ]
  },
  {
   "cell_type": "code",
   "execution_count": 120,
   "metadata": {},
   "outputs": [],
   "source": [
    "input_file = f'{ref_dir}/inputs/CSD-500.xyz'\n",
    "property_name = \"CS\""
   ]
  },
  {
   "cell_type": "markdown",
   "metadata": {},
   "source": [
    "We then read the trajectory, store the desired property, and create our SOAP calculator."
   ]
  },
  {
   "cell_type": "code",
   "execution_count": 122,
   "metadata": {},
   "outputs": [
    {
     "name": "stdout",
     "output_type": "stream",
     "text": [
      "There are 100 frames and 13233 environments.\n"
     ]
    }
   ],
   "source": [
    "frames = np.array(read(input_file,\":100\"))\n",
    "number_of_frames = len(frames)\n",
    "property_values = np.array([cc.arrays[property_name] for cc in frames])\n",
    "print(f\"There are {number_of_frames} frames and {len(np.concatenate(property_values))} environments.\")\n",
    "\n",
    "representation = SOAP(**hyperparameters)"
   ]
  },
  {
   "cell_type": "markdown",
   "metadata": {},
   "source": [
    "### Preparing Data for KPCA"
   ]
  },
  {
   "cell_type": "markdown",
   "metadata": {},
   "source": [
    "We also need to define a few parameters for our training model:\n",
    "<ul>\n",
    "  <li> <b>training percentage</b>: (float) percent of frames to train the model on</li>\n",
    "  <li> <b>$\\zeta$</b>: (int) order the dot kernel</li>\n",
    "  <li> <b>kernel_type</b>: (string, \"Atom\" or \"Structure\") whether to compare the environmental or average features.\n",
    "</ul>\n",
    "\n",
    "We also need to split our dataset into a [training and testing set](https://en.wikipedia.org/wiki/Training,_validation,_and_test_sets)."
   ]
  },
  {
   "cell_type": "code",
   "execution_count": 123,
   "metadata": {},
   "outputs": [],
   "source": [
    "training_percentage = 0.8\n",
    "zeta = 2\n",
    "kernel_type = \"Atom\""
   ]
  },
  {
   "cell_type": "code",
   "execution_count": 124,
   "metadata": {},
   "outputs": [],
   "source": [
    "def split_dataset(N, training_percentage, seed=20):\n",
    "    np.random.seed(seed)\n",
    "    ids = list(range(N))\n",
    "    np.random.shuffle(ids)\n",
    "    return ids[:int(training_percentage*N)], ids[int(training_percentage*N):]\n",
    "\n",
    "train_idx, test_idx = split_dataset(number_of_frames, training_percentage)"
   ]
  },
  {
   "cell_type": "markdown",
   "metadata": {},
   "source": [
    "Now we're ready to train the model! We can use our SOAP calculator to compute the features of our training set."
   ]
  },
  {
   "cell_type": "code",
   "execution_count": 126,
   "metadata": {},
   "outputs": [
    {
     "data": {
      "text/plain": [
       "(80, 20)"
      ]
     },
     "execution_count": 126,
     "metadata": {},
     "output_type": "execute_result"
    }
   ],
   "source": [
    "training_features = representation.transform(frames[train_idx])\n",
    "testing_features = representation.transform(frames[test_idx])\n",
    "len(train_idx), len(test_idx)"
   ]
  },
  {
   "cell_type": "markdown",
   "metadata": {},
   "source": [
    "### Constructing the KRR and Predicting the Properties\n",
    "\n",
    "We'll construct a KRR object so that we can reuse the model."
   ]
  },
  {
   "cell_type": "markdown",
   "metadata": {},
   "source": [
    "### Constructing the Kernel\n",
    "libRascal provides different kernels through the rascal.models.Kernel class.\n",
    "\n",
    "Here we'll use the cosine kernel, which uses the $\\zeta$ parameter we defined earlier. The cosine kernel is defined as:\n",
    "\n",
    "\\begin{equation}\n",
    "k(x, y) = \\left(\\frac{xy^T}{||x|| ||y||}\\right)^\\zeta\n",
    "\\end{equation}\n",
    "\n",
    "A Kernel object can be called on a single feature (to give the self-kernel) or a pair of features."
   ]
  },
  {
   "cell_type": "code",
   "execution_count": 127,
   "metadata": {},
   "outputs": [],
   "source": [
    "kernel = Kernel(representation=representation, name=\"Cosine\",\n",
    "                 target_type=kernel_type, zeta=2)\n",
    "K_train = kernel(training_features, training_features)\n",
    "K_test = kernel(testing_features, training_features)"
   ]
  },
  {
   "cell_type": "markdown",
   "metadata": {},
   "source": [
    "### Training the KPCA"
   ]
  },
  {
   "cell_type": "code",
   "execution_count": 128,
   "metadata": {},
   "outputs": [
    {
     "data": {
      "text/plain": [
       "(10758, 10565)"
      ]
     },
     "execution_count": 128,
     "metadata": {},
     "output_type": "execute_result"
    }
   ],
   "source": [
    "v, U = np.linalg.eigh(K_train)\n",
    "\n",
    "# sort in decreasing order\n",
    "v = np.flip(v, axis=0)\n",
    "U = np.flip(U, axis=1)\n",
    "U = U[:, v > 0]\n",
    "v = v[v > 0]\n",
    "\n",
    "proj = np.matmul(U[:,:], np.diagflat(1.0/np.sqrt(v[0:])))\n",
    "proj.shape"
   ]
  },
  {
   "cell_type": "code",
   "execution_count": 129,
   "metadata": {},
   "outputs": [],
   "source": [
    "T_train = np.matmul(K_train, proj)\n",
    "T_test = np.matmul(K_test, proj)"
   ]
  },
  {
   "cell_type": "markdown",
   "metadata": {},
   "source": [
    "### Projecting the KPCA"
   ]
  },
  {
   "cell_type": "code",
   "execution_count": 132,
   "metadata": {},
   "outputs": [
    {
     "ename": "IndexError",
     "evalue": "too many indices for array",
     "output_type": "error",
     "traceback": [
      "\u001b[0;31m---------------------------------------------------------------------------\u001b[0m",
      "\u001b[0;31mIndexError\u001b[0m                                Traceback (most recent call last)",
      "\u001b[0;32m<ipython-input-132-66947c008cc0>\u001b[0m in \u001b[0;36m<module>\u001b[0;34m\u001b[0m\n\u001b[1;32m      3\u001b[0m \u001b[0mfig\u001b[0m\u001b[0;34m,\u001b[0m \u001b[0maxes\u001b[0m \u001b[0;34m=\u001b[0m \u001b[0mplt\u001b[0m\u001b[0;34m.\u001b[0m\u001b[0msubplots\u001b[0m\u001b[0;34m(\u001b[0m\u001b[0;36m1\u001b[0m\u001b[0;34m,\u001b[0m\u001b[0;36m2\u001b[0m\u001b[0;34m,\u001b[0m\u001b[0msharey\u001b[0m\u001b[0;34m=\u001b[0m\u001b[0;32mTrue\u001b[0m\u001b[0;34m)\u001b[0m\u001b[0;34m\u001b[0m\u001b[0;34m\u001b[0m\u001b[0m\n\u001b[1;32m      4\u001b[0m \u001b[0;34m\u001b[0m\u001b[0m\n\u001b[0;32m----> 5\u001b[0;31m \u001b[0maxes\u001b[0m\u001b[0;34m[\u001b[0m\u001b[0;36m0\u001b[0m\u001b[0;34m]\u001b[0m\u001b[0;34m.\u001b[0m\u001b[0mscatter\u001b[0m\u001b[0;34m(\u001b[0m\u001b[0mT_train\u001b[0m\u001b[0;34m[\u001b[0m\u001b[0;34m:\u001b[0m\u001b[0;34m,\u001b[0m\u001b[0;36m0\u001b[0m\u001b[0;34m]\u001b[0m\u001b[0;34m,\u001b[0m\u001b[0mT_train\u001b[0m\u001b[0;34m[\u001b[0m\u001b[0;34m:\u001b[0m\u001b[0;34m,\u001b[0m\u001b[0;36m1\u001b[0m\u001b[0;34m]\u001b[0m\u001b[0;34m,\u001b[0m\u001b[0mc\u001b[0m\u001b[0;34m=\u001b[0m\u001b[0mproperty_values\u001b[0m\u001b[0;34m[\u001b[0m\u001b[0mtrain_idx\u001b[0m\u001b[0;34m,\u001b[0m\u001b[0;36m0\u001b[0m\u001b[0;34m]\u001b[0m\u001b[0;34m,\u001b[0m \u001b[0;34m**\u001b[0m\u001b[0mscatter_params\u001b[0m\u001b[0;34m)\u001b[0m\u001b[0;34m\u001b[0m\u001b[0;34m\u001b[0m\u001b[0m\n\u001b[0m\u001b[1;32m      6\u001b[0m \u001b[0maxes\u001b[0m\u001b[0;34m[\u001b[0m\u001b[0;36m1\u001b[0m\u001b[0;34m]\u001b[0m\u001b[0;34m.\u001b[0m\u001b[0mscatter\u001b[0m\u001b[0;34m(\u001b[0m\u001b[0mT_test\u001b[0m\u001b[0;34m[\u001b[0m\u001b[0;34m:\u001b[0m\u001b[0;34m,\u001b[0m\u001b[0;36m0\u001b[0m\u001b[0;34m]\u001b[0m\u001b[0;34m,\u001b[0m\u001b[0mT_test\u001b[0m\u001b[0;34m[\u001b[0m\u001b[0;34m:\u001b[0m\u001b[0;34m,\u001b[0m\u001b[0;36m1\u001b[0m\u001b[0;34m]\u001b[0m\u001b[0;34m,\u001b[0m\u001b[0mc\u001b[0m\u001b[0;34m=\u001b[0m\u001b[0mproperty_values\u001b[0m\u001b[0;34m[\u001b[0m\u001b[0mtest_idx\u001b[0m\u001b[0;34m,\u001b[0m\u001b[0;36m0\u001b[0m\u001b[0;34m]\u001b[0m\u001b[0;34m,\u001b[0m \u001b[0;34m**\u001b[0m\u001b[0mscatter_params\u001b[0m\u001b[0;34m)\u001b[0m\u001b[0;34m\u001b[0m\u001b[0;34m\u001b[0m\u001b[0m\n\u001b[1;32m      7\u001b[0m \u001b[0;34m\u001b[0m\u001b[0m\n",
      "\u001b[0;31mIndexError\u001b[0m: too many indices for array"
     ]
    },
    {
     "data": {
      "image/png": "[encoded data removed]",
      "text/plain": [
       "<Figure size 432x288 with 2 Axes>"
      ]
     },
     "metadata": {
      "needs_background": "light"
     },
     "output_type": "display_data"
    }
   ],
   "source": [
    "scatter_params = dict(s=30, edgecolor='k')\n",
    "\n",
    "fig, axes = plt.subplots(1,2,sharey=True)\n",
    "\n",
    "axes[0].scatter(T_train[:,0],T_train[:,1],c=property_values[train_idx,0], **scatter_params)\n",
    "axes[1].scatter(T_test[:,0],T_test[:,1],c=property_values[test_idx,0], **scatter_params)\n",
    "\n",
    "axes[0].set_title(\"Training Data\")\n",
    "axes[1].set_title(\"Testing Data\")\n",
    "\n",
    "axes[0].set_xlabel(\"Principal Component 1\")\n",
    "axes[1].set_xlabel(\"Principal Component 1\")\n",
    "axes[0].set_ylabel(\"Principal Component 2\")"
   ]
  },
  {
   "cell_type": "code",
   "execution_count": 136,
   "metadata": {},
   "outputs": [
    {
     "data": {
      "text/plain": [
       "array([[ 1.9820e+02,  2.0227e+02],\n",
       "       [ 1.9820e+02,  2.0227e+02],\n",
       "       [ 1.2416e+02,  1.3072e+02],\n",
       "       [ 1.2416e+02,  1.3073e+02],\n",
       "       [ 2.1328e+02,  2.1465e+02],\n",
       "       [ 2.1328e+02,  2.1465e+02],\n",
       "       [-8.0060e+01, -6.9480e+01],\n",
       "       [-8.0060e+01, -6.9490e+01],\n",
       "       [-6.3000e-01,  1.3000e-01],\n",
       "       [-6.3000e-01,  1.3000e-01],\n",
       "       [ 3.0420e+01,  3.8740e+01],\n",
       "       [ 3.0420e+01,  3.8740e+01],\n",
       "       [ 2.4250e+01,  3.6020e+01],\n",
       "       [ 2.4250e+01,  3.6020e+01],\n",
       "       [ 2.4060e+01,  2.3530e+01],\n",
       "       [ 2.4060e+01,  2.3530e+01],\n",
       "       [ 1.2970e+02,  1.3360e+02],\n",
       "       [ 1.2970e+02,  1.3360e+02],\n",
       "       [ 2.9310e+01,  2.8830e+01],\n",
       "       [ 2.9310e+01,  2.8830e+01],\n",
       "       [ 2.7660e+01,  2.6990e+01],\n",
       "       [ 2.7660e+01,  2.6990e+01],\n",
       "       [ 2.9920e+01,  3.1170e+01],\n",
       "       [ 2.9920e+01,  3.1170e+01],\n",
       "       [ 2.7240e+01,  2.6670e+01],\n",
       "       [ 2.7240e+01,  2.6680e+01],\n",
       "       [ 5.6570e+01,  6.6100e+01],\n",
       "       [ 5.6570e+01,  6.6100e+01],\n",
       "       [ 2.2760e+01,  2.3530e+01],\n",
       "       [ 2.2760e+01,  2.3530e+01],\n",
       "       [ 1.4120e+01,  1.2780e+01],\n",
       "       [ 1.4120e+01,  1.2780e+01],\n",
       "       [ 1.5380e+01,  1.6190e+01],\n",
       "       [ 1.5380e+01,  1.6190e+01],\n",
       "       [ 6.5890e+01,  6.5900e+01],\n",
       "       [ 6.5890e+01,  6.5910e+01],\n",
       "       [ 2.4120e+01,  2.3840e+01],\n",
       "       [ 2.4120e+01,  2.3840e+01],\n",
       "       [ 1.1867e+02,  1.1493e+02],\n",
       "       [ 1.1867e+02,  1.1493e+02],\n",
       "       [ 2.5900e+01,  2.6310e+01],\n",
       "       [ 2.5900e+01,  2.6310e+01],\n",
       "       [ 2.6770e+01,  2.7010e+01],\n",
       "       [ 2.6770e+01,  2.7010e+01],\n",
       "       [ 2.7470e+01,  2.6930e+01],\n",
       "       [ 2.7470e+01,  2.6930e+01],\n",
       "       [ 1.1386e+02,  1.1171e+02],\n",
       "       [ 1.1386e+02,  1.1171e+02],\n",
       "       [ 2.7330e+01,  2.7310e+01],\n",
       "       [ 2.7330e+01,  2.7310e+01],\n",
       "       [ 2.6500e+01,  2.6460e+01],\n",
       "       [ 2.6500e+01,  2.6460e+01],\n",
       "       [ 2.6170e+01,  2.6300e+01],\n",
       "       [ 2.6170e+01,  2.6300e+01],\n",
       "       [ 1.1110e+02,  1.1147e+02],\n",
       "       [ 1.1110e+02,  1.1147e+02],\n",
       "       [ 2.6650e+01,  2.6750e+01],\n",
       "       [ 2.6650e+01,  2.6750e+01],\n",
       "       [ 2.4990e+01,  2.4900e+01],\n",
       "       [ 2.4990e+01,  2.4900e+01],\n",
       "       [ 2.5930e+01,  2.6250e+01],\n",
       "       [ 2.5930e+01,  2.6250e+01]])"
      ]
     },
     "execution_count": 136,
     "metadata": {},
     "output_type": "execute_result"
    }
   ],
   "source": [
    "property_values[1]"
   ]
  },
  {
   "cell_type": "code",
   "execution_count": null,
   "metadata": {},
   "outputs": [],
   "source": []
  }
 ],
 "metadata": {
  "celltoolbar": "Raw Cell Format",
  "kernelspec": {
   "display_name": "Python 3",
   "language": "python",
   "name": "python3"
  },
  "language_info": {
   "codemirror_mode": {
    "name": "ipython",
    "version": 3
   },
   "file_extension": ".py",
   "mimetype": "text/x-python",
   "name": "python",
   "nbconvert_exporter": "python",
   "pygments_lexer": "ipython3",
   "version": "3.7.3"
  },
  "toc": {
   "base_numbering": 1,
   "nav_menu": {
    "height": "12px",
    "width": "252px"
   },
   "number_sections": true,
   "sideBar": true,
   "skip_h1_title": false,
   "title_cell": "Table of Contents",
   "title_sidebar": "Contents",
   "toc_cell": false,
   "toc_position": {},
   "toc_section_display": "block",
   "toc_window_display": true
  }
 },
 "nbformat": 4,
 "nbformat_minor": 2
}
