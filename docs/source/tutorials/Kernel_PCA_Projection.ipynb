{
 "cells": [
  {
   "cell_type": "markdown",
   "metadata": {},
   "source": [
    "# PCA Projection of SOAP Environments\n",
    "\n",
    "This notebook is intended as an introductory how-to on projecting SOAP vectors along their principal components. For more information on the variable conventions, derivation, utility, and calculation of SOAP vectors, please refer to (among others):\n",
    "\n",
    "<ul>\n",
    "  <li> <a href=\"https://journals.aps.org/prb/abstract/10.1103/PhysRevB.87.184115\">On representing chemical environments (Bartók 2013)</a></li>\n",
    "  <li><a href=\"https://onlinelibrary.wiley.com/doi/full/10.1002/qua.24927\">Gaussian approximation potentials: A brief tutorial introduction (Bartók 2015)</li>\n",
    "  <li><a href=\"https://pubs.rsc.org/en/content/articlepdf/2016/cp/c6cp00415f\">Comparing molecules and solids across structural and alchemical space (De 2016)</li>\n",
    "    <li><a href=\"https://link.springer.com/content/pdf/10.1007%2F978-3-319-42913-7_68-1.pdf\">Machine Learning of Atomic-Scale Properties Based on Physical Principles (Ceriotti 2018)</li>\n",
    "</ul>\n",
    "\n",
    "Beyond libRascal, the packages used in this tutorial are:  [json](https://docs.python.org/2/library/json.html), [numpy](https://numpy.org/), [ipywidgets](https://ipywidgets.readthedocs.io/en/latest/), [matplotlib](https://matplotlib.org/), and [ase](https://wiki.fysik.dtu.dk/ase/index.html)."
   ]
  },
  {
   "cell_type": "code",
   "execution_count": 1,
   "metadata": {},
   "outputs": [],
   "source": [
    "%matplotlib inline\n",
    "\n",
    "# may omit in final version\n",
    "%reload_ext autoreload\n",
    "%autoreload 2 \n",
    "\n",
    "import os\n",
    "import time\n",
    "import sys\n",
    "\n",
    "import numpy as np\n",
    "import ase\n",
    "from ase.io import read\n",
    "from matplotlib import pyplot as plt\n",
    "import json\n",
    "from sklearn.decomposition import KernelPCA\n",
    "\n",
    "wd=!(pwd)\n",
    "sys.path.append(f'{wd[0]}/utilities')\n",
    "\n",
    "if('/docs/source/tutorials' in wd[0]):\n",
    "    ref_dir = '../../../reference_data'\n",
    "else:\n",
    "    ref_dir = '../reference_data'\n",
    "    \n",
    "from general_utils import *\n",
    "from rascal.representations import SphericalInvariants as SOAP\n",
    "from rascal.models import Kernel"
   ]
  },
  {
   "cell_type": "markdown",
   "metadata": {},
   "source": [
    "## Training a Kernel PCA on Global Properties\n",
    "As discussed in [Link to Hyperparameter Tutorial](), the hyperparameters of a SOAP descriptor will decide the amount of information contained in the descriptor. Here we'll use a standard Power Spectrum SOAP representation:"
   ]
  },
  {
   "cell_type": "markdown",
   "metadata": {},
   "source": [
    "### Hyperparameters"
   ]
  },
  {
   "cell_type": "code",
   "execution_count": 2,
   "metadata": {},
   "outputs": [],
   "source": [
    "hyperparameters = dict(soap_type = 'PowerSpectrum', \\\n",
    "                       interaction_cutoff = 3.5, \\\n",
    "                       max_radial = 6, \\\n",
    "                       max_angular = 6, \\\n",
    "                       gaussian_sigma_constant = 0.4, \\\n",
    "                       gaussian_sigma_type = 'Constant', \\\n",
    "                       cutoff_smooth_width = 0.5\n",
    "                      )"
   ]
  },
  {
   "cell_type": "markdown",
   "metadata": {},
   "source": [
    "### Load and Read the Input File\n",
    "We'll first look at the [small_molecules-1000.xyz]() file, which contains the per-atom formation energy in eV. Because this is a property of the crystal (opposed to the atoms), we'll want to use the \"Structure\" kernel given by libRascal."
   ]
  },
  {
   "cell_type": "code",
   "execution_count": 29,
   "metadata": {},
   "outputs": [],
   "source": [
    "# input_file = f'{ref_dir}/inputs/CSD-500.xyz'\n",
    "# property_name = \"CS\"\n",
    "input_file = '/local/scratch/cersonsk/gch_sandbox/molecules_project/total.xyz'"
   ]
  },
  {
   "cell_type": "markdown",
   "metadata": {},
   "source": [
    "We then read the trajectory, store the desired property, and create our SOAP calculator."
   ]
  },
  {
   "cell_type": "code",
   "execution_count": 52,
   "metadata": {},
   "outputs": [
    {
     "name": "stdout",
     "output_type": "stream",
     "text": [
      "There are 21415 frames.\n"
     ]
    }
   ],
   "source": [
    "frames = np.array(read(input_file,\":\"))\n",
    "number_of_frames = len(frames)\n",
    "# property_values = np.array([cc.arrays[property_name] for cc in frames])\n",
    "print(f\"There are {number_of_frames} frames.\")#\" and {len(np.concatenate(property_values))} environments.\")\n",
    "\n",
    "representation = SOAP(**hyperparameters)"
   ]
  },
  {
   "cell_type": "code",
   "execution_count": 53,
   "metadata": {},
   "outputs": [],
   "source": [
    "constituents = np.array([''.join(list(sorted(set(frame.symbols)))) for frame in frames])\n",
    "const_id = {x: i for i,x in enumerate(list(sorted(set(constituents))))}\n",
    "const_ids = np.array([const_id[c] for c in constituents])"
   ]
  },
  {
   "cell_type": "markdown",
   "metadata": {},
   "source": [
    "### Preparing Data for KPCA"
   ]
  },
  {
   "cell_type": "markdown",
   "metadata": {},
   "source": [
    "We also need to define a few parameters for our training model:\n",
    "<ul>\n",
    "  <li> <b>training percentage</b>: (float) percent of frames to train the model on</li>\n",
    "  <li> <b>$\\zeta$</b>: (int) order the dot kernel</li>\n",
    "  <li> <b>kernel_type</b>: (string, \"Atom\" or \"Structure\") whether to compare the environmental or average features.\n",
    "</ul>\n",
    "\n",
    "We also need to split our dataset into a [training and testing set](https://en.wikipedia.org/wiki/Training,_validation,_and_test_sets)."
   ]
  },
  {
   "cell_type": "code",
   "execution_count": 64,
   "metadata": {},
   "outputs": [],
   "source": [
    "training_percentage = 0.8\n",
    "n_subset = 500\n",
    "zeta = 2\n",
    "kernel_type = \"Structure\""
   ]
  },
  {
   "cell_type": "code",
   "execution_count": 65,
   "metadata": {},
   "outputs": [],
   "source": [
    "def split_dataset(N, max_N, training_percentage, seed=20):\n",
    "    np.random.seed(seed)\n",
    "    ids = list(range(max_N))\n",
    "    np.random.shuffle(ids)\n",
    "    return ids[:int(training_percentage*N)], ids[int(training_percentage*N):N]\n",
    "\n",
    "train_idx, test_idx = split_dataset(n_subset, number_of_frames, training_percentage)"
   ]
  },
  {
   "cell_type": "markdown",
   "metadata": {},
   "source": [
    "Now we're ready to train the model! We can use our SOAP calculator to compute the features of our training set."
   ]
  },
  {
   "cell_type": "code",
   "execution_count": 66,
   "metadata": {},
   "outputs": [
    {
     "data": {
      "text/plain": [
       "(400, 100)"
      ]
     },
     "execution_count": 66,
     "metadata": {},
     "output_type": "execute_result"
    }
   ],
   "source": [
    "training_features = representation.transform(frames[train_idx])\n",
    "testing_features = representation.transform(frames[test_idx])\n",
    "len(train_idx), len(test_idx)"
   ]
  },
  {
   "cell_type": "markdown",
   "metadata": {},
   "source": [
    "### Constructing the KRR and Predicting the Properties\n",
    "\n",
    "We'll construct a KRR object so that we can reuse the model."
   ]
  },
  {
   "cell_type": "markdown",
   "metadata": {},
   "source": [
    "### Constructing the Kernel\n",
    "libRascal provides different kernels through the rascal.models.Kernel class.\n",
    "\n",
    "Here we'll use the cosine kernel, which uses the $\\zeta$ parameter we defined earlier. The cosine kernel is defined as:\n",
    "\n",
    "\\begin{equation}\n",
    "k(x, y) = \\left(\\frac{xy^T}{||x|| ||y||}\\right)^\\zeta\n",
    "\\end{equation}\n",
    "\n",
    "A Kernel object can be called on a single feature (to give the self-kernel) or a pair of features."
   ]
  },
  {
   "cell_type": "code",
   "execution_count": 67,
   "metadata": {},
   "outputs": [],
   "source": [
    "kernel = Kernel(representation=representation, name=\"Cosine\",\n",
    "                 target_type=kernel_type, zeta=2)\n",
    "K_train = kernel(training_features, training_features)\n",
    "K_test = kernel(testing_features, training_features)"
   ]
  },
  {
   "cell_type": "code",
   "execution_count": 68,
   "metadata": {},
   "outputs": [
    {
     "data": {
      "text/plain": [
       "((400, 400), (100, 400))"
      ]
     },
     "execution_count": 68,
     "metadata": {},
     "output_type": "execute_result"
    }
   ],
   "source": [
    "K_train.shape, K_test.shape"
   ]
  },
  {
   "cell_type": "markdown",
   "metadata": {},
   "source": [
    "### Training the KPCA"
   ]
  },
  {
   "cell_type": "code",
   "execution_count": 69,
   "metadata": {},
   "outputs": [],
   "source": [
    "n_KPCA = 2"
   ]
  },
  {
   "cell_type": "code",
   "execution_count": 70,
   "metadata": {},
   "outputs": [
    {
     "data": {
      "text/plain": [
       "(400, 2)"
      ]
     },
     "execution_count": 70,
     "metadata": {},
     "output_type": "execute_result"
    }
   ],
   "source": [
    "v, U = np.linalg.eigh(K_train)\n",
    "\n",
    "# sort in decreasing order\n",
    "v = np.flip(v, axis=0)\n",
    "U = np.flip(U, axis=1)\n",
    "U = U[:, v > 0]\n",
    "v = v[v > 0]\n",
    "\n",
    "proj = np.matmul(U[:,:n_KPCA], np.diagflat(1.0/np.sqrt(v[0:n_KPCA])))\n",
    "proj.shape"
   ]
  },
  {
   "cell_type": "code",
   "execution_count": 71,
   "metadata": {},
   "outputs": [],
   "source": [
    "T_train = np.matmul(K_train, proj)\n",
    "T_test = np.matmul(K_test, proj)"
   ]
  },
  {
   "cell_type": "code",
   "execution_count": 72,
   "metadata": {},
   "outputs": [
    {
     "data": {
      "text/plain": [
       "((400, 2), (100, 2))"
      ]
     },
     "execution_count": 72,
     "metadata": {},
     "output_type": "execute_result"
    }
   ],
   "source": [
    "T_train.shape, T_test.shape"
   ]
  },
  {
   "cell_type": "markdown",
   "metadata": {},
   "source": [
    "### Projecting the KPCA"
   ]
  },
  {
   "cell_type": "code",
   "execution_count": 73,
   "metadata": {
    "scrolled": true
   },
   "outputs": [
    {
     "data": {
      "text/plain": [
       "Text(0, 0.5, 'Principal Component 2')"
      ]
     },
     "execution_count": 73,
     "metadata": {},
     "output_type": "execute_result"
    },
    {
     "data": {
      "image/png": "[encoded data removed]",
      "text/plain": [
       "<Figure size 432x288 with 3 Axes>"
      ]
     },
     "metadata": {
      "needs_background": "light"
     },
     "output_type": "display_data"
    }
   ],
   "source": [
    "scatter_params = dict(s=30, edgecolor='k', cmap='Set1')\n",
    "\n",
    "fig, axes = plt.subplots(1,2,sharey=True)\n",
    "\n",
    "p=axes[0].scatter(T_train[:,0],T_train[:,1],\n",
    "                c=const_ids[train_idx], \n",
    "                **scatter_params)\n",
    "axes[1].scatter(T_test[:,0],T_test[:,1],\n",
    "                c=const_ids[test_idx], \n",
    "                **scatter_params)\n",
    "\n",
    "cbar = plt.colorbar(p)\n",
    "cbar.set_ticks(range(len(const_id.keys())))\n",
    "cbar.set_ticklabels(list(const_id.keys()))\n",
    "axes[0].set_title(\"Training Data\")\n",
    "axes[1].set_title(\"Testing Data\")\n",
    "\n",
    "axes[0].set_xlabel(\"Principal Component 1\")\n",
    "axes[1].set_xlabel(\"Principal Component 1\")\n",
    "axes[0].set_ylabel(\"Principal Component 2\")"
   ]
  },
  {
   "cell_type": "code",
   "execution_count": null,
   "metadata": {},
   "outputs": [],
   "source": []
  }
 ],
 "metadata": {
  "celltoolbar": "Raw Cell Format",
  "kernelspec": {
   "display_name": "Python 3",
   "language": "python",
   "name": "python3"
  },
  "language_info": {
   "codemirror_mode": {
    "name": "ipython",
    "version": 3
   },
   "file_extension": ".py",
   "mimetype": "text/x-python",
   "name": "python",
   "nbconvert_exporter": "python",
   "pygments_lexer": "ipython3",
   "version": "3.7.3"
  },
  "toc": {
   "base_numbering": 1,
   "nav_menu": {
    "height": "12px",
    "width": "252px"
   },
   "number_sections": true,
   "sideBar": true,
   "skip_h1_title": false,
   "title_cell": "Table of Contents",
   "title_sidebar": "Contents",
   "toc_cell": false,
   "toc_position": {
    "height": "calc(100% - 180px)",
    "left": "10px",
    "top": "150px",
    "width": "213.797px"
   },
   "toc_section_display": "block",
   "toc_window_display": true
  }
 },
 "nbformat": 4,
 "nbformat_minor": 2
}
