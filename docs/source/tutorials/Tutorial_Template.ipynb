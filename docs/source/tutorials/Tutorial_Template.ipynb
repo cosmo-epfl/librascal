{
 "cells": [
  {
   "cell_type": "markdown",
   "metadata": {
    "toc": true
   },
   "source": [
    "<h1>Table of Contents<span class=\"tocSkip\"></span></h1>\n",
    "<div class=\"toc\"><ul class=\"toc-item\"><li><span><a href=\"#Title-of-the-Tutorial\" data-toc-modified-id=\"Title-of-the-Tutorial-1\"><span class=\"toc-item-num\">1&nbsp;&nbsp;</span>Title of the Tutorial</a></span></li></ul></div>"
   ]
  },
  {
   "cell_type": "markdown",
   "metadata": {},
   "source": [
    "# Title of the Tutorial\n",
    "\n",
    "This notebook is intended to _purpose of tutorial_.\n",
    "For more information on _nuances of tutorial_, please refer to (among others): \n",
    "- [Title (Surname Year)](url) \n",
    "- [Title (Surname Year)](url)\n",
    "\n",
    "Beyond libRascal, the packages used in this tutorial are:  [pkg](url), [pkg](url), and [pkg](url)."
   ]
  },
  {
   "cell_type": "code",
   "execution_count": 1,
   "metadata": {},
   "outputs": [],
   "source": [
    "import os\n",
    "import sys\n",
    "import time\n",
    "\n",
    "import numpy as np\n",
    "import ase\n",
    "from ase.io import read\n",
    "from matplotlib import pyplot as plt\n",
    "import json\n",
    "from IPython.display import display, Markdown\n",
    "\n",
    "from rascal.representations import SphericalInvariants as SOAP\n",
    "from rascal.models import Kernel\n",
    "\n",
    "sys.path.append('./utilities')\n",
    "from general_utils import *"
   ]
  },
  {
   "cell_type": "code",
   "execution_count": null,
   "metadata": {},
   "outputs": [],
   "source": []
  }
 ],
 "metadata": {
  "kernelspec": {
   "display_name": "Python 3",
   "language": "python",
   "name": "python3"
  },
  "language_info": {
   "codemirror_mode": {
    "name": "ipython",
    "version": 3
   },
   "file_extension": ".py",
   "mimetype": "text/x-python",
   "name": "python",
   "nbconvert_exporter": "python",
   "pygments_lexer": "ipython3",
   "version": "3.6.8"
  },
  "toc": {
   "base_numbering": 1,
   "nav_menu": {},
   "number_sections": true,
   "sideBar": true,
   "skip_h1_title": false,
   "title_cell": "Table of Contents",
   "title_sidebar": "Contents",
   "toc_cell": true,
   "toc_position": {},
   "toc_section_display": true,
   "toc_window_display": true
  }
 },
 "nbformat": 4,
 "nbformat_minor": 2
}
