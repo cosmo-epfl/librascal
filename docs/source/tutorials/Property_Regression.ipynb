{
 "cells": [
  {
   "cell_type": "markdown",
   "metadata": {},
   "source": [
    "# Regression of Materials Properties\n",
    "\n",
    "This notebook is intended as an introductory how-to on training a model on materials properties based upon SOAP vectors. For more information on the variable conventions, derivation, utility, and calculation of SOAP vectors, please refer to (among others):\n",
    "\n",
    "<ul>\n",
    "  <li> <a href=\"https://journals.aps.org/prb/abstract/10.1103/PhysRevB.87.184115\">On representing chemical environments (Bartók 2013)</a></li>\n",
    "  <li><a href=\"https://onlinelibrary.wiley.com/doi/full/10.1002/qua.24927\">Gaussian approximation potentials: A brief tutorial introduction (Bartók 2015)</li>\n",
    "  <li><a href=\"https://pubs.rsc.org/en/content/articlepdf/2016/cp/c6cp00415f\">Comparing molecules and solids across structural and alchemical space (De 2016)</li>\n",
    "    <li><a href=\"https://link.springer.com/content/pdf/10.1007%2F978-3-319-42913-7_68-1.pdf\">Machine Learning of Atomic-Scale Properties Based on Physical Principles (Ceriotti 2018)</li>\n",
    "</ul>\n",
    "\n",
    "Beyond libRascal, the packages used in this tutorial are:  [json](https://docs.python.org/2/library/json.html), [numpy](https://numpy.org/), [ipywidgets](https://ipywidgets.readthedocs.io/en/latest/), [matplotlib](https://matplotlib.org/), and [ase](https://wiki.fysik.dtu.dk/ase/index.html)."
   ]
  },
  {
   "cell_type": "code",
   "execution_count": 1,
   "metadata": {},
   "outputs": [],
   "source": [
    "%matplotlib inline\n",
    "\n",
    "# may omit in final version\n",
    "%reload_ext autoreload\n",
    "%autoreload 2 \n",
    "\n",
    "import os\n",
    "import time\n",
    "import sys\n",
    "\n",
    "import numpy as np\n",
    "import ase\n",
    "from ase.io import read\n",
    "from matplotlib import pyplot as plt\n",
    "import json\n",
    "\n",
    "wd=!(pwd)\n",
    "sys.path.append(f'{wd[0]}/utilities')\n",
    "\n",
    "if('/docs/source/tutorials' in wd[0]):\n",
    "    ref_dir = '../../../reference_data'\n",
    "else:\n",
    "    ref_dir = '../reference_data'\n",
    "    \n",
    "from general_utils import *\n",
    "from rascal.representations import SphericalInvariants as SOAP\n",
    "from rascal.models import Kernel"
   ]
  },
  {
   "cell_type": "markdown",
   "metadata": {},
   "source": [
    "## Training a Kernel Ridge Regression (KRR) on Global Properties\n",
    "As discussed in [Link to Hyperparameter Tutorial](), the hyperparameters of a SOAP descriptor will decide the amount of information contained in the descriptor. Here we'll use a standard Power Spectrum SOAP representation:"
   ]
  },
  {
   "cell_type": "markdown",
   "metadata": {},
   "source": [
    "### Hyperparameters"
   ]
  },
  {
   "cell_type": "code",
   "execution_count": 2,
   "metadata": {},
   "outputs": [],
   "source": [
    "hyperparameters = dict(soap_type = 'PowerSpectrum', \\\n",
    "                       interaction_cutoff = 3.5, \\\n",
    "                       max_radial = 6, \\\n",
    "                       max_angular = 6, \\\n",
    "                       gaussian_sigma_constant = 0.4, \\\n",
    "                       gaussian_sigma_type = 'Constant', \\\n",
    "                       cutoff_smooth_width = 0.5\n",
    "                      )"
   ]
  },
  {
   "cell_type": "markdown",
   "metadata": {},
   "source": [
    "### Load and Read the Input File\n",
    "We'll first look at the [small_molecules-1000.xyz]() file, which contains the per-atom formation energy in eV. Because this is a property of the crystal (opposed to the atoms), we'll want to use the \"Structure\" kernel given by libRascal."
   ]
  },
  {
   "cell_type": "code",
   "execution_count": 3,
   "metadata": {},
   "outputs": [],
   "source": [
    "input_file = f'{ref_dir}/inputs/small_molecules-1000.xyz'\n",
    "property_name = \"dft_formation_energy_per_atom_in_eV\""
   ]
  },
  {
   "cell_type": "markdown",
   "metadata": {},
   "source": [
    "We then read the trajectory, store the desired property, and create our SOAP calculator."
   ]
  },
  {
   "cell_type": "code",
   "execution_count": 4,
   "metadata": {},
   "outputs": [
    {
     "name": "stdout",
     "output_type": "stream",
     "text": [
      "There are 100 frames.\n"
     ]
    }
   ],
   "source": [
    "frames = np.array(read(input_file,\":100\"))\n",
    "number_of_frames = len(frames)\n",
    "print(f\"There are {number_of_frames} frames.\")\n",
    "property_values = np.array([cc.info[property_name] for cc in frames])\n",
    "\n",
    "representation = SOAP(**hyperparameters)"
   ]
  },
  {
   "cell_type": "markdown",
   "metadata": {},
   "source": [
    "### Preparing Data for KRR"
   ]
  },
  {
   "cell_type": "markdown",
   "metadata": {},
   "source": [
    "We also need to define a few parameters for our training model:\n",
    "<ul>\n",
    "  <li> <b>training percentage</b>: (float) percent of frames to train the model on</li>\n",
    "  <li> <b>$\\zeta$</b>: (int) order the dot kernel</li>\n",
    "  <li> <b>$\\Lambda$</b>: (float) error for the <a href=\"https://en.wikipedia.org/wiki/Tikhonov_regularization\">Tikhonov Regularization</a></li>\n",
    "  <li> <b>jitter</b>: (float) threshold for zero eigenvalues </li>\n",
    "  <li> <b>kernel_type</b>: (string, \"Atom\" or \"Structure\") whether to compare the environmental or average features.\n",
    "</ul>\n",
    "\n",
    "We also need to split our dataset into a [training and testing set](https://en.wikipedia.org/wiki/Training,_validation,_and_test_sets)."
   ]
  },
  {
   "cell_type": "code",
   "execution_count": 5,
   "metadata": {},
   "outputs": [],
   "source": [
    "training_percentage = 0.8\n",
    "zeta = 2\n",
    "Lambda = 5e-3\n",
    "jitter = 1e-8\n",
    "kernel_type = \"Structure\""
   ]
  },
  {
   "cell_type": "code",
   "execution_count": 6,
   "metadata": {},
   "outputs": [],
   "source": [
    "def split_dataset(N, training_percentage, seed=20):\n",
    "    np.random.seed(seed)\n",
    "    ids = list(range(N))\n",
    "    np.random.shuffle(ids)\n",
    "    return ids[:int(training_percentage*N)], ids[int(training_percentage*N):]\n",
    "\n",
    "train_idx, test_idx = split_dataset(number_of_frames, training_percentage)"
   ]
  },
  {
   "cell_type": "markdown",
   "metadata": {},
   "source": [
    "Now we're ready to train the model! We can use our SOAP calculator to compute the features of our training set."
   ]
  },
  {
   "cell_type": "code",
   "execution_count": 7,
   "metadata": {},
   "outputs": [],
   "source": [
    "features = representation.transform(frames[train_idx])"
   ]
  },
  {
   "cell_type": "markdown",
   "metadata": {},
   "source": [
    "### Constructing the KRR and Predicting the Properties\n",
    "\n",
    "We'll construct a KRR object so that we can reuse the model."
   ]
  },
  {
   "cell_type": "code",
   "execution_count": 8,
   "metadata": {},
   "outputs": [],
   "source": [
    "class KRR(object):\n",
    "    \n",
    "    def __init__(self, features, properties,\n",
    "                 kernel_type, representation, \n",
    "                 Lambda, jitter, zeta=2,\n",
    "                 weights=None, kernel_name=\"Cosine\",\n",
    "                 **kwargs):\n",
    "        \n",
    "        self.weights = weights\n",
    "        \n",
    "        self.X = features\n",
    "        self.Y = properties\n",
    "        \n",
    "        self.kernel = Kernel(representation=representation, name=kernel_name,\n",
    "                             target_type=kernel_type, zeta=zeta, **kwargs)\n",
    "\n",
    "        self.Lambda = Lambda\n",
    "        self.jitter = jitter\n",
    "        self.hypers = dict(**kwargs)\n",
    "        self.calculator = representation\n",
    "\n",
    "    def train(self):\n",
    "        KXX = self.kernel(self.X, self.X)\n",
    "\n",
    "        delta = np.std(self.Y) / np.mean(KXX.diagonal())\n",
    "        KXX[np.diag_indices_from(KXX)] += self.Lambda**2 / delta **2 + self.jitter\n",
    "        \n",
    "        self.weights = np.linalg.solve(KXX,self.Y)\n",
    "        self.trained = True\n",
    "        \n",
    "    def predict(self, frames):\n",
    "        \n",
    "        try:\n",
    "            print(f\"Our weights have been calculated and have shape {self.weights.shape}\")\n",
    "        except:\n",
    "            self.train()\n",
    "        \n",
    "        features = self.calculator.transform(frames)\n",
    "        \n",
    "        kernel = self.kernel(self.X, features)\n",
    "        \n",
    "        return np.dot(self.weights, kernel)\n",
    "    \n",
    "    def plot(self, y_known, property_name, frames=None, y=None):\n",
    "        def calc_R2(yk, yp):\n",
    "            SStot = ((yk - np.average(yk, axis=0)) ** 2).sum(axis=0,dtype=np.float64)\n",
    "            SSres = ((yk - yp) ** 2).sum(axis=0,dtype=np.float64)\n",
    "            return np.mean(1 - (SSres/SStot))\n",
    "        if(frames!=None):\n",
    "            y=self.predict(frames)\n",
    "\n",
    "        stats = dict(\n",
    "                    mean_average_error= [np.mean(np.abs(y-y_known))],\n",
    "                    root_mean_squared_error=[np.sqrt(np.mean((y-y_known)**2))],\n",
    "                    R2 = [calc_R2(y_known, y)]\n",
    "                    )\n",
    "        headers = ['Statistic', 'Value']\n",
    "        \n",
    "        display(Markdown(markdown_table_from_dict(stats, headers)))\n",
    "        \n",
    "        plt.scatter(y, y_known, s=3)\n",
    "        plt.axis('scaled')\n",
    "        plt.xlabel(property_name)\n",
    "        plt.ylabel('Predicted '+property_name)\n",
    "        plt.gca().set_aspect('equal')\n",
    "        plt.show()"
   ]
  },
  {
   "cell_type": "markdown",
   "metadata": {},
   "source": [
    "### Constructing the Kernel\n",
    "libRascal provides different kernels through the rascal.models.Kernel class.\n",
    "\n",
    "Here we'll use the cosine kernel, which uses the $\\zeta$ parameter we defined earlier. The cosine kernel is defined as:\n",
    "\n",
    "\\begin{equation}\n",
    "k(x, y) = \\left(\\frac{xy^T}{||x|| ||y||}\\right)^\\zeta\n",
    "\\end{equation}\n",
    "\n",
    "A Kernel object can be called on a single feature (to give the self-kernel) or a pair of features."
   ]
  },
  {
   "cell_type": "code",
   "execution_count": 9,
   "metadata": {},
   "outputs": [],
   "source": [
    "krr = KRR(features, property_values[train_idx],\n",
    "          kernel_type=kernel_type, representation=representation,\n",
    "          Lambda=Lambda, jitter=jitter, weights=None,\n",
    "          zeta=zeta, **hyperparameters\n",
    "         )"
   ]
  },
  {
   "cell_type": "markdown",
   "metadata": {},
   "source": [
    "### Training the KRR\n",
    "We must find the kernel K of our training features and adjust it by the [Tikhonov matrix](https://en.wikipedia.org/wiki/Tikhonov_regularization). \n",
    "\n",
    "The weights $w$ are then the solutions of:\n",
    "\n",
    "\\begin{equation}\n",
    "K w = Y\n",
    "\\end{equation}\n",
    "\n",
    "where Y is the property matrix."
   ]
  },
  {
   "cell_type": "code",
   "execution_count": 10,
   "metadata": {},
   "outputs": [],
   "source": [
    "krr.train()"
   ]
  },
  {
   "cell_type": "markdown",
   "metadata": {},
   "source": [
    "### Predicting Properties using the KRR"
   ]
  },
  {
   "cell_type": "code",
   "execution_count": 11,
   "metadata": {},
   "outputs": [
    {
     "name": "stdout",
     "output_type": "stream",
     "text": [
      "Our weights have been calculated and have shape (80,)\n"
     ]
    },
    {
     "data": {
      "text/markdown": [
       "<table>  <thead><tr><th>Statistic</th><th>Value</th></tr></thead><tbody><tr><td>Mean Average Error</td><td>0.032</td></tr><tr><td>Root Mean Squared Error</td><td>0.0448</td></tr><tr><td>R2</td><td>0.9178</td></tr></tbody></table>"
      ],
      "text/plain": [
       "<IPython.core.display.Markdown object>"
      ]
     },
     "metadata": {},
     "output_type": "display_data"
    },
    {
     "data": {
      "image/png": "[encoded data removed]",
      "text/plain": [
       "<Figure size 432x288 with 1 Axes>"
      ]
     },
     "metadata": {
      "needs_background": "light"
     },
     "output_type": "display_data"
    }
   ],
   "source": [
    "y = krr.predict(frames[test_idx])\n",
    "krr.plot(y_known=property_values[test_idx], y=y, property_name=property_name)"
   ]
  },
  {
   "cell_type": "markdown",
   "metadata": {},
   "source": [
    "### Predicting from Another Data Set"
   ]
  },
  {
   "cell_type": "code",
   "execution_count": 12,
   "metadata": {},
   "outputs": [
    {
     "name": "stdout",
     "output_type": "stream",
     "text": [
      "Our weights have been calculated and have shape (80,)\n"
     ]
    },
    {
     "data": {
      "text/markdown": [
       "<table>  <thead><tr><th>Statistic</th><th>Value</th></tr></thead><tbody><tr><td>Mean Average Error</td><td>0.0331</td></tr><tr><td>Root Mean Squared Error</td><td>0.0523</td></tr><tr><td>R2</td><td>0.904</td></tr></tbody></table>"
      ],
      "text/plain": [
       "<IPython.core.display.Markdown object>"
      ]
     },
     "metadata": {},
     "output_type": "display_data"
    },
    {
     "data": {
      "image/png": "[encoded data removed]",
      "text/plain": [
       "<Figure size 432x288 with 1 Axes>"
      ]
     },
     "metadata": {
      "needs_background": "light"
     },
     "output_type": "display_data"
    }
   ],
   "source": [
    "filename=f'{ref_dir}/inputs/small_molecules-1000.xyz'\n",
    "new_frames = read(filename,\":400\")\n",
    "new_property_values = np.array([cc.info[property_name] for cc in new_frames])\n",
    "y_pred = krr.predict(new_frames)\n",
    "\n",
    "krr.plot(y_known=new_property_values, y=y_pred, property_name=property_name)"
   ]
  },
  {
   "cell_type": "markdown",
   "metadata": {},
   "source": [
    "## Training a KRR on Atomic Properties\n",
    "Now let's consider a property that is atom-centric, like the chemical shift. The workflow of predicting this property does not change much--we can use the same hyperparaters and Kernel class--but we will note the changes."
   ]
  },
  {
   "cell_type": "markdown",
   "metadata": {},
   "source": [
    "### Load and Read the Input File\n",
    "We'll now look at the [CSD-500.xyz]() file, which contains the chemical shifts (CS) of 500 molecules. Because this is a property of the atoms, we'll want to use the \"Structure\" kernel given by libRascal."
   ]
  },
  {
   "cell_type": "code",
   "execution_count": 13,
   "metadata": {},
   "outputs": [],
   "source": [
    "input_file = f'{ref_dir}/inputs/CSD-500.xyz'\n",
    "property_name = \"CS\""
   ]
  },
  {
   "cell_type": "markdown",
   "metadata": {},
   "source": [
    "We then read the trajectory, store the desired property, and create our SOAP calculator.\n",
    "\n",
    "**Because the chemical shifts are per-atom properties, they have been stored in ase.arrays, as opposed to ase.info.**"
   ]
  },
  {
   "cell_type": "code",
   "execution_count": 14,
   "metadata": {},
   "outputs": [
    {
     "name": "stdout",
     "output_type": "stream",
     "text": [
      "There are 100 frames and 13233 environments.\n"
     ]
    }
   ],
   "source": [
    "frames = np.array(read(input_file,\":100\"))\n",
    "number_of_frames = len(frames)\n",
    "property_values = np.array([cc.arrays[property_name] for cc in frames])\n",
    "print(f\"There are {number_of_frames} frames and {len(np.concatenate(property_values))} environments.\")\n",
    "\n",
    "representation = SOAP(**hyperparameters)"
   ]
  },
  {
   "cell_type": "markdown",
   "metadata": {},
   "source": [
    "### Preparing Data for KRR"
   ]
  },
  {
   "cell_type": "markdown",
   "metadata": {},
   "source": [
    "We still need to define the training percentage, $\\zeta$, $\\Lambda$, jitter, and the kernel_type, **however only the kernel_type will differ from the earlier example**. We can then split our dataset into training and testing sets and calculate the SOAP vectors."
   ]
  },
  {
   "cell_type": "code",
   "execution_count": 15,
   "metadata": {},
   "outputs": [],
   "source": [
    "kernel_type = \"Atom\"\n",
    "train_idx, test_idx = split_dataset(number_of_frames, training_percentage)"
   ]
  },
  {
   "cell_type": "code",
   "execution_count": 16,
   "metadata": {},
   "outputs": [],
   "source": [
    "features = representation.transform(frames[train_idx])"
   ]
  },
  {
   "cell_type": "markdown",
   "metadata": {},
   "source": [
    "### Constructing the KRR and Predicting the Properties\n",
    "\n",
    "The only change here is the properties array. **Because the properties are stored in lists for each molecule, we will need to pass the concatenated list of the properties to our KRR model.**"
   ]
  },
  {
   "cell_type": "code",
   "execution_count": 17,
   "metadata": {},
   "outputs": [],
   "source": [
    "krr = KRR(features, np.concatenate(property_values[train_idx])[:,0],\n",
    "          kernel_type=kernel_type, representation=representation,\n",
    "          Lambda=Lambda, jitter=jitter, weights=None,\n",
    "          zeta=zeta, **hyperparameters\n",
    "         )"
   ]
  },
  {
   "cell_type": "markdown",
   "metadata": {},
   "source": [
    "### Training the KRR"
   ]
  },
  {
   "cell_type": "code",
   "execution_count": 18,
   "metadata": {},
   "outputs": [],
   "source": [
    "krr.train()"
   ]
  },
  {
   "cell_type": "code",
   "execution_count": 19,
   "metadata": {},
   "outputs": [
    {
     "name": "stdout",
     "output_type": "stream",
     "text": [
      "Our weights have been calculated and have shape (10758,)\n"
     ]
    },
    {
     "data": {
      "text/markdown": [
       "<table>  <thead><tr><th>Statistic</th><th>Value</th></tr></thead><tbody><tr><td>Mean Average Error</td><td>11.3622</td></tr><tr><td>Root Mean Squared Error</td><td>21.0806</td></tr><tr><td>R2</td><td>0.9145</td></tr></tbody></table>"
      ],
      "text/plain": [
       "<IPython.core.display.Markdown object>"
      ]
     },
     "metadata": {},
     "output_type": "display_data"
    },
    {
     "data": {
      "image/png": "[encoded data removed]",
      "text/plain": [
       "<Figure size 432x288 with 1 Axes>"
      ]
     },
     "metadata": {
      "needs_background": "light"
     },
     "output_type": "display_data"
    }
   ],
   "source": [
    "y = krr.predict(frames[test_idx])\n",
    "krr.plot(y_known=np.concatenate(property_values[test_idx])[:,0],\n",
    "         y=y, property_name=property_name)"
   ]
  }
 ],
 "metadata": {
  "celltoolbar": "Raw Cell Format",
  "kernelspec": {
   "display_name": "Python 3",
   "language": "python",
   "name": "python3"
  },
  "language_info": {
   "codemirror_mode": {
    "name": "ipython",
    "version": 3
   },
   "file_extension": ".py",
   "mimetype": "text/x-python",
   "name": "python",
   "nbconvert_exporter": "python",
   "pygments_lexer": "ipython3",
   "version": "3.7.3"
  },
  "toc": {
   "base_numbering": 1,
   "nav_menu": {
    "height": "12px",
    "width": "252px"
   },
   "number_sections": true,
   "sideBar": true,
   "skip_h1_title": false,
   "title_cell": "Table of Contents",
   "title_sidebar": "Contents",
   "toc_cell": false,
   "toc_position": {},
   "toc_section_display": "block",
   "toc_window_display": true
  }
 },
 "nbformat": 4,
 "nbformat_minor": 2
}
